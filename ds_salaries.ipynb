{
 "cells": [
  {
   "cell_type": "code",
   "execution_count": 1,
   "metadata": {},
   "outputs": [],
   "source": [
    "import pandas as pd\n",
    "import numpy as np\n",
    "import matplotlib.pyplot as plt\n",
    "import seaborn as sns\n",
    "import plotly.express as px\n",
    "from scipy import stats"
   ]
  },
  {
   "cell_type": "code",
   "execution_count": 2,
   "metadata": {},
   "outputs": [
    {
     "data": {
      "text/html": [
       "<div>\n",
       "<style scoped>\n",
       "    .dataframe tbody tr th:only-of-type {\n",
       "        vertical-align: middle;\n",
       "    }\n",
       "\n",
       "    .dataframe tbody tr th {\n",
       "        vertical-align: top;\n",
       "    }\n",
       "\n",
       "    .dataframe thead th {\n",
       "        text-align: right;\n",
       "    }\n",
       "</style>\n",
       "<table border=\"1\" class=\"dataframe\">\n",
       "  <thead>\n",
       "    <tr style=\"text-align: right;\">\n",
       "      <th></th>\n",
       "      <th>Unnamed: 0</th>\n",
       "      <th>work_year</th>\n",
       "      <th>experience_level</th>\n",
       "      <th>employment_type</th>\n",
       "      <th>job_title</th>\n",
       "      <th>salary</th>\n",
       "      <th>salary_currency</th>\n",
       "      <th>salary_in_usd</th>\n",
       "      <th>employee_residence</th>\n",
       "      <th>remote_ratio</th>\n",
       "      <th>company_location</th>\n",
       "      <th>company_size</th>\n",
       "    </tr>\n",
       "  </thead>\n",
       "  <tbody>\n",
       "    <tr>\n",
       "      <th>0</th>\n",
       "      <td>0</td>\n",
       "      <td>2020</td>\n",
       "      <td>MI</td>\n",
       "      <td>FT</td>\n",
       "      <td>Data Scientist</td>\n",
       "      <td>70000</td>\n",
       "      <td>EUR</td>\n",
       "      <td>79833</td>\n",
       "      <td>DE</td>\n",
       "      <td>0</td>\n",
       "      <td>DE</td>\n",
       "      <td>L</td>\n",
       "    </tr>\n",
       "    <tr>\n",
       "      <th>1</th>\n",
       "      <td>1</td>\n",
       "      <td>2020</td>\n",
       "      <td>SE</td>\n",
       "      <td>FT</td>\n",
       "      <td>Machine Learning Scientist</td>\n",
       "      <td>260000</td>\n",
       "      <td>USD</td>\n",
       "      <td>260000</td>\n",
       "      <td>JP</td>\n",
       "      <td>0</td>\n",
       "      <td>JP</td>\n",
       "      <td>S</td>\n",
       "    </tr>\n",
       "    <tr>\n",
       "      <th>2</th>\n",
       "      <td>2</td>\n",
       "      <td>2020</td>\n",
       "      <td>SE</td>\n",
       "      <td>FT</td>\n",
       "      <td>Big Data Engineer</td>\n",
       "      <td>85000</td>\n",
       "      <td>GBP</td>\n",
       "      <td>109024</td>\n",
       "      <td>GB</td>\n",
       "      <td>50</td>\n",
       "      <td>GB</td>\n",
       "      <td>M</td>\n",
       "    </tr>\n",
       "    <tr>\n",
       "      <th>3</th>\n",
       "      <td>3</td>\n",
       "      <td>2020</td>\n",
       "      <td>MI</td>\n",
       "      <td>FT</td>\n",
       "      <td>Product Data Analyst</td>\n",
       "      <td>20000</td>\n",
       "      <td>USD</td>\n",
       "      <td>20000</td>\n",
       "      <td>HN</td>\n",
       "      <td>0</td>\n",
       "      <td>HN</td>\n",
       "      <td>S</td>\n",
       "    </tr>\n",
       "    <tr>\n",
       "      <th>4</th>\n",
       "      <td>4</td>\n",
       "      <td>2020</td>\n",
       "      <td>SE</td>\n",
       "      <td>FT</td>\n",
       "      <td>Machine Learning Engineer</td>\n",
       "      <td>150000</td>\n",
       "      <td>USD</td>\n",
       "      <td>150000</td>\n",
       "      <td>US</td>\n",
       "      <td>50</td>\n",
       "      <td>US</td>\n",
       "      <td>L</td>\n",
       "    </tr>\n",
       "    <tr>\n",
       "      <th>...</th>\n",
       "      <td>...</td>\n",
       "      <td>...</td>\n",
       "      <td>...</td>\n",
       "      <td>...</td>\n",
       "      <td>...</td>\n",
       "      <td>...</td>\n",
       "      <td>...</td>\n",
       "      <td>...</td>\n",
       "      <td>...</td>\n",
       "      <td>...</td>\n",
       "      <td>...</td>\n",
       "      <td>...</td>\n",
       "    </tr>\n",
       "    <tr>\n",
       "      <th>602</th>\n",
       "      <td>602</td>\n",
       "      <td>2022</td>\n",
       "      <td>SE</td>\n",
       "      <td>FT</td>\n",
       "      <td>Data Engineer</td>\n",
       "      <td>154000</td>\n",
       "      <td>USD</td>\n",
       "      <td>154000</td>\n",
       "      <td>US</td>\n",
       "      <td>100</td>\n",
       "      <td>US</td>\n",
       "      <td>M</td>\n",
       "    </tr>\n",
       "    <tr>\n",
       "      <th>603</th>\n",
       "      <td>603</td>\n",
       "      <td>2022</td>\n",
       "      <td>SE</td>\n",
       "      <td>FT</td>\n",
       "      <td>Data Engineer</td>\n",
       "      <td>126000</td>\n",
       "      <td>USD</td>\n",
       "      <td>126000</td>\n",
       "      <td>US</td>\n",
       "      <td>100</td>\n",
       "      <td>US</td>\n",
       "      <td>M</td>\n",
       "    </tr>\n",
       "    <tr>\n",
       "      <th>604</th>\n",
       "      <td>604</td>\n",
       "      <td>2022</td>\n",
       "      <td>SE</td>\n",
       "      <td>FT</td>\n",
       "      <td>Data Analyst</td>\n",
       "      <td>129000</td>\n",
       "      <td>USD</td>\n",
       "      <td>129000</td>\n",
       "      <td>US</td>\n",
       "      <td>0</td>\n",
       "      <td>US</td>\n",
       "      <td>M</td>\n",
       "    </tr>\n",
       "    <tr>\n",
       "      <th>605</th>\n",
       "      <td>605</td>\n",
       "      <td>2022</td>\n",
       "      <td>SE</td>\n",
       "      <td>FT</td>\n",
       "      <td>Data Analyst</td>\n",
       "      <td>150000</td>\n",
       "      <td>USD</td>\n",
       "      <td>150000</td>\n",
       "      <td>US</td>\n",
       "      <td>100</td>\n",
       "      <td>US</td>\n",
       "      <td>M</td>\n",
       "    </tr>\n",
       "    <tr>\n",
       "      <th>606</th>\n",
       "      <td>606</td>\n",
       "      <td>2022</td>\n",
       "      <td>MI</td>\n",
       "      <td>FT</td>\n",
       "      <td>AI Scientist</td>\n",
       "      <td>200000</td>\n",
       "      <td>USD</td>\n",
       "      <td>200000</td>\n",
       "      <td>IN</td>\n",
       "      <td>100</td>\n",
       "      <td>US</td>\n",
       "      <td>L</td>\n",
       "    </tr>\n",
       "  </tbody>\n",
       "</table>\n",
       "<p>607 rows × 12 columns</p>\n",
       "</div>"
      ],
      "text/plain": [
       "     Unnamed: 0  work_year experience_level employment_type  \\\n",
       "0             0       2020               MI              FT   \n",
       "1             1       2020               SE              FT   \n",
       "2             2       2020               SE              FT   \n",
       "3             3       2020               MI              FT   \n",
       "4             4       2020               SE              FT   \n",
       "..          ...        ...              ...             ...   \n",
       "602         602       2022               SE              FT   \n",
       "603         603       2022               SE              FT   \n",
       "604         604       2022               SE              FT   \n",
       "605         605       2022               SE              FT   \n",
       "606         606       2022               MI              FT   \n",
       "\n",
       "                      job_title  salary salary_currency  salary_in_usd  \\\n",
       "0                Data Scientist   70000             EUR          79833   \n",
       "1    Machine Learning Scientist  260000             USD         260000   \n",
       "2             Big Data Engineer   85000             GBP         109024   \n",
       "3          Product Data Analyst   20000             USD          20000   \n",
       "4     Machine Learning Engineer  150000             USD         150000   \n",
       "..                          ...     ...             ...            ...   \n",
       "602               Data Engineer  154000             USD         154000   \n",
       "603               Data Engineer  126000             USD         126000   \n",
       "604                Data Analyst  129000             USD         129000   \n",
       "605                Data Analyst  150000             USD         150000   \n",
       "606                AI Scientist  200000             USD         200000   \n",
       "\n",
       "    employee_residence  remote_ratio company_location company_size  \n",
       "0                   DE             0               DE            L  \n",
       "1                   JP             0               JP            S  \n",
       "2                   GB            50               GB            M  \n",
       "3                   HN             0               HN            S  \n",
       "4                   US            50               US            L  \n",
       "..                 ...           ...              ...          ...  \n",
       "602                 US           100               US            M  \n",
       "603                 US           100               US            M  \n",
       "604                 US             0               US            M  \n",
       "605                 US           100               US            M  \n",
       "606                 IN           100               US            L  \n",
       "\n",
       "[607 rows x 12 columns]"
      ]
     },
     "execution_count": 2,
     "metadata": {},
     "output_type": "execute_result"
    }
   ],
   "source": [
    "stipendi_df_raw = pd.read_csv('ds_salaries.csv')\n",
    "stipendi_df_raw"
   ]
  },
  {
   "cell_type": "code",
   "execution_count": 3,
   "metadata": {},
   "outputs": [],
   "source": [
    "jobs_list = []\n",
    "new_job = \"\"\n",
    "for job_title in stipendi_df_raw[\"job_title\"]:\n",
    "    if \"ML\" in job_title:\n",
    "        new_job = \"Machine Learning Engineer\"\n",
    "        \n",
    "    if \"Machine Learning\" not in job_title and \"Engineer\" in job_title:\n",
    "        new_job = \"Data Engineer\"\n",
    "        \n",
    "    if \"Analyst\" in job_title or 'Analytics' in job_title:\n",
    "        new_job = \"Data Analyst\"\n",
    "    \n",
    "    if \"Machine Learning\" in job_title or \"Computer Vision\" in job_title or \"NLP\" in job_title or \"AI Scientist\" in job_title:\n",
    "        new_job = \"AI Professionals\"\n",
    "    \n",
    "    if \"Scientist\" in job_title and \"AI\" not in job_title or \"Data Science\" in job_title:\n",
    "        new_job = \"Data Scientist\"\n",
    "    jobs_list.append(new_job)\n",
    "    \n",
    "simple_df = stipendi_df_raw.drop(['job_title', 'work_year', 'experience_level', 'employment_type',\n",
    "       'salary', 'employee_residence',\n",
    "       'remote_ratio', 'company_location', 'company_size'], axis = 1)\n",
    "job_series = pd.Series(jobs_list)\n",
    "simple_df[\"job_category\"]= job_series"
   ]
  },
  {
   "cell_type": "code",
   "execution_count": 4,
   "metadata": {},
   "outputs": [
    {
     "data": {
      "text/html": [
       "<div>\n",
       "<style scoped>\n",
       "    .dataframe tbody tr th:only-of-type {\n",
       "        vertical-align: middle;\n",
       "    }\n",
       "\n",
       "    .dataframe tbody tr th {\n",
       "        vertical-align: top;\n",
       "    }\n",
       "\n",
       "    .dataframe thead th {\n",
       "        text-align: right;\n",
       "    }\n",
       "</style>\n",
       "<table border=\"1\" class=\"dataframe\">\n",
       "  <thead>\n",
       "    <tr style=\"text-align: right;\">\n",
       "      <th></th>\n",
       "      <th>Unnamed: 0</th>\n",
       "      <th>work_year</th>\n",
       "      <th>experience_level</th>\n",
       "      <th>employment_type</th>\n",
       "      <th>job_title</th>\n",
       "      <th>salary</th>\n",
       "      <th>salary_currency</th>\n",
       "      <th>salary_in_usd</th>\n",
       "      <th>employee_residence</th>\n",
       "      <th>remote_ratio</th>\n",
       "      <th>company_location</th>\n",
       "      <th>company_size</th>\n",
       "      <th>job_category</th>\n",
       "    </tr>\n",
       "  </thead>\n",
       "  <tbody>\n",
       "    <tr>\n",
       "      <th>0</th>\n",
       "      <td>0</td>\n",
       "      <td>2020</td>\n",
       "      <td>MI</td>\n",
       "      <td>FT</td>\n",
       "      <td>Data Scientist</td>\n",
       "      <td>70000</td>\n",
       "      <td>EUR</td>\n",
       "      <td>79833</td>\n",
       "      <td>DE</td>\n",
       "      <td>0</td>\n",
       "      <td>DE</td>\n",
       "      <td>L</td>\n",
       "      <td>Data Scientist</td>\n",
       "    </tr>\n",
       "    <tr>\n",
       "      <th>1</th>\n",
       "      <td>1</td>\n",
       "      <td>2020</td>\n",
       "      <td>SE</td>\n",
       "      <td>FT</td>\n",
       "      <td>Machine Learning Scientist</td>\n",
       "      <td>260000</td>\n",
       "      <td>USD</td>\n",
       "      <td>260000</td>\n",
       "      <td>JP</td>\n",
       "      <td>0</td>\n",
       "      <td>JP</td>\n",
       "      <td>S</td>\n",
       "      <td>Data Scientist</td>\n",
       "    </tr>\n",
       "    <tr>\n",
       "      <th>2</th>\n",
       "      <td>2</td>\n",
       "      <td>2020</td>\n",
       "      <td>SE</td>\n",
       "      <td>FT</td>\n",
       "      <td>Big Data Engineer</td>\n",
       "      <td>85000</td>\n",
       "      <td>GBP</td>\n",
       "      <td>109024</td>\n",
       "      <td>GB</td>\n",
       "      <td>50</td>\n",
       "      <td>GB</td>\n",
       "      <td>M</td>\n",
       "      <td>Data Engineer</td>\n",
       "    </tr>\n",
       "    <tr>\n",
       "      <th>3</th>\n",
       "      <td>3</td>\n",
       "      <td>2020</td>\n",
       "      <td>MI</td>\n",
       "      <td>FT</td>\n",
       "      <td>Product Data Analyst</td>\n",
       "      <td>20000</td>\n",
       "      <td>USD</td>\n",
       "      <td>20000</td>\n",
       "      <td>HN</td>\n",
       "      <td>0</td>\n",
       "      <td>HN</td>\n",
       "      <td>S</td>\n",
       "      <td>Data Analyst</td>\n",
       "    </tr>\n",
       "    <tr>\n",
       "      <th>4</th>\n",
       "      <td>4</td>\n",
       "      <td>2020</td>\n",
       "      <td>SE</td>\n",
       "      <td>FT</td>\n",
       "      <td>Machine Learning Engineer</td>\n",
       "      <td>150000</td>\n",
       "      <td>USD</td>\n",
       "      <td>150000</td>\n",
       "      <td>US</td>\n",
       "      <td>50</td>\n",
       "      <td>US</td>\n",
       "      <td>L</td>\n",
       "      <td>AI Professionals</td>\n",
       "    </tr>\n",
       "    <tr>\n",
       "      <th>...</th>\n",
       "      <td>...</td>\n",
       "      <td>...</td>\n",
       "      <td>...</td>\n",
       "      <td>...</td>\n",
       "      <td>...</td>\n",
       "      <td>...</td>\n",
       "      <td>...</td>\n",
       "      <td>...</td>\n",
       "      <td>...</td>\n",
       "      <td>...</td>\n",
       "      <td>...</td>\n",
       "      <td>...</td>\n",
       "      <td>...</td>\n",
       "    </tr>\n",
       "    <tr>\n",
       "      <th>602</th>\n",
       "      <td>602</td>\n",
       "      <td>2022</td>\n",
       "      <td>SE</td>\n",
       "      <td>FT</td>\n",
       "      <td>Data Engineer</td>\n",
       "      <td>154000</td>\n",
       "      <td>USD</td>\n",
       "      <td>154000</td>\n",
       "      <td>US</td>\n",
       "      <td>100</td>\n",
       "      <td>US</td>\n",
       "      <td>M</td>\n",
       "      <td>Data Engineer</td>\n",
       "    </tr>\n",
       "    <tr>\n",
       "      <th>603</th>\n",
       "      <td>603</td>\n",
       "      <td>2022</td>\n",
       "      <td>SE</td>\n",
       "      <td>FT</td>\n",
       "      <td>Data Engineer</td>\n",
       "      <td>126000</td>\n",
       "      <td>USD</td>\n",
       "      <td>126000</td>\n",
       "      <td>US</td>\n",
       "      <td>100</td>\n",
       "      <td>US</td>\n",
       "      <td>M</td>\n",
       "      <td>Data Engineer</td>\n",
       "    </tr>\n",
       "    <tr>\n",
       "      <th>604</th>\n",
       "      <td>604</td>\n",
       "      <td>2022</td>\n",
       "      <td>SE</td>\n",
       "      <td>FT</td>\n",
       "      <td>Data Analyst</td>\n",
       "      <td>129000</td>\n",
       "      <td>USD</td>\n",
       "      <td>129000</td>\n",
       "      <td>US</td>\n",
       "      <td>0</td>\n",
       "      <td>US</td>\n",
       "      <td>M</td>\n",
       "      <td>Data Analyst</td>\n",
       "    </tr>\n",
       "    <tr>\n",
       "      <th>605</th>\n",
       "      <td>605</td>\n",
       "      <td>2022</td>\n",
       "      <td>SE</td>\n",
       "      <td>FT</td>\n",
       "      <td>Data Analyst</td>\n",
       "      <td>150000</td>\n",
       "      <td>USD</td>\n",
       "      <td>150000</td>\n",
       "      <td>US</td>\n",
       "      <td>100</td>\n",
       "      <td>US</td>\n",
       "      <td>M</td>\n",
       "      <td>Data Analyst</td>\n",
       "    </tr>\n",
       "    <tr>\n",
       "      <th>606</th>\n",
       "      <td>606</td>\n",
       "      <td>2022</td>\n",
       "      <td>MI</td>\n",
       "      <td>FT</td>\n",
       "      <td>AI Scientist</td>\n",
       "      <td>200000</td>\n",
       "      <td>USD</td>\n",
       "      <td>200000</td>\n",
       "      <td>IN</td>\n",
       "      <td>100</td>\n",
       "      <td>US</td>\n",
       "      <td>L</td>\n",
       "      <td>AI Professionals</td>\n",
       "    </tr>\n",
       "  </tbody>\n",
       "</table>\n",
       "<p>607 rows × 13 columns</p>\n",
       "</div>"
      ],
      "text/plain": [
       "     Unnamed: 0  work_year experience_level employment_type  \\\n",
       "0             0       2020               MI              FT   \n",
       "1             1       2020               SE              FT   \n",
       "2             2       2020               SE              FT   \n",
       "3             3       2020               MI              FT   \n",
       "4             4       2020               SE              FT   \n",
       "..          ...        ...              ...             ...   \n",
       "602         602       2022               SE              FT   \n",
       "603         603       2022               SE              FT   \n",
       "604         604       2022               SE              FT   \n",
       "605         605       2022               SE              FT   \n",
       "606         606       2022               MI              FT   \n",
       "\n",
       "                      job_title  salary salary_currency  salary_in_usd  \\\n",
       "0                Data Scientist   70000             EUR          79833   \n",
       "1    Machine Learning Scientist  260000             USD         260000   \n",
       "2             Big Data Engineer   85000             GBP         109024   \n",
       "3          Product Data Analyst   20000             USD          20000   \n",
       "4     Machine Learning Engineer  150000             USD         150000   \n",
       "..                          ...     ...             ...            ...   \n",
       "602               Data Engineer  154000             USD         154000   \n",
       "603               Data Engineer  126000             USD         126000   \n",
       "604                Data Analyst  129000             USD         129000   \n",
       "605                Data Analyst  150000             USD         150000   \n",
       "606                AI Scientist  200000             USD         200000   \n",
       "\n",
       "    employee_residence  remote_ratio company_location company_size  \\\n",
       "0                   DE             0               DE            L   \n",
       "1                   JP             0               JP            S   \n",
       "2                   GB            50               GB            M   \n",
       "3                   HN             0               HN            S   \n",
       "4                   US            50               US            L   \n",
       "..                 ...           ...              ...          ...   \n",
       "602                 US           100               US            M   \n",
       "603                 US           100               US            M   \n",
       "604                 US             0               US            M   \n",
       "605                 US           100               US            M   \n",
       "606                 IN           100               US            L   \n",
       "\n",
       "         job_category  \n",
       "0      Data Scientist  \n",
       "1      Data Scientist  \n",
       "2       Data Engineer  \n",
       "3        Data Analyst  \n",
       "4    AI Professionals  \n",
       "..                ...  \n",
       "602     Data Engineer  \n",
       "603     Data Engineer  \n",
       "604      Data Analyst  \n",
       "605      Data Analyst  \n",
       "606  AI Professionals  \n",
       "\n",
       "[607 rows x 13 columns]"
      ]
     },
     "execution_count": 4,
     "metadata": {},
     "output_type": "execute_result"
    }
   ],
   "source": [
    "stipendi_df_raw['job_category'] = simple_df['job_category']\n",
    "stipendi_df_raw"
   ]
  },
  {
   "cell_type": "code",
   "execution_count": 5,
   "metadata": {},
   "outputs": [
    {
     "data": {
      "text/html": [
       "<div>\n",
       "<style scoped>\n",
       "    .dataframe tbody tr th:only-of-type {\n",
       "        vertical-align: middle;\n",
       "    }\n",
       "\n",
       "    .dataframe tbody tr th {\n",
       "        vertical-align: top;\n",
       "    }\n",
       "\n",
       "    .dataframe thead th {\n",
       "        text-align: right;\n",
       "    }\n",
       "</style>\n",
       "<table border=\"1\" class=\"dataframe\">\n",
       "  <thead>\n",
       "    <tr style=\"text-align: right;\">\n",
       "      <th></th>\n",
       "      <th>work_year</th>\n",
       "      <th>experience_level</th>\n",
       "      <th>employment_type</th>\n",
       "      <th>job_title</th>\n",
       "      <th>salary</th>\n",
       "      <th>salary_currency</th>\n",
       "      <th>salary_in_usd</th>\n",
       "      <th>employee_residence</th>\n",
       "      <th>remote_ratio</th>\n",
       "      <th>company_location</th>\n",
       "      <th>company_size</th>\n",
       "      <th>job_category</th>\n",
       "    </tr>\n",
       "  </thead>\n",
       "  <tbody>\n",
       "    <tr>\n",
       "      <th>0</th>\n",
       "      <td>2020</td>\n",
       "      <td>MI</td>\n",
       "      <td>FT</td>\n",
       "      <td>Data Scientist</td>\n",
       "      <td>70000</td>\n",
       "      <td>EUR</td>\n",
       "      <td>79833</td>\n",
       "      <td>DE</td>\n",
       "      <td>0</td>\n",
       "      <td>DE</td>\n",
       "      <td>L</td>\n",
       "      <td>Data Scientist</td>\n",
       "    </tr>\n",
       "    <tr>\n",
       "      <th>1</th>\n",
       "      <td>2020</td>\n",
       "      <td>SE</td>\n",
       "      <td>FT</td>\n",
       "      <td>Machine Learning Scientist</td>\n",
       "      <td>260000</td>\n",
       "      <td>USD</td>\n",
       "      <td>260000</td>\n",
       "      <td>JP</td>\n",
       "      <td>0</td>\n",
       "      <td>JP</td>\n",
       "      <td>S</td>\n",
       "      <td>Data Scientist</td>\n",
       "    </tr>\n",
       "    <tr>\n",
       "      <th>2</th>\n",
       "      <td>2020</td>\n",
       "      <td>SE</td>\n",
       "      <td>FT</td>\n",
       "      <td>Big Data Engineer</td>\n",
       "      <td>85000</td>\n",
       "      <td>GBP</td>\n",
       "      <td>109024</td>\n",
       "      <td>GB</td>\n",
       "      <td>50</td>\n",
       "      <td>GB</td>\n",
       "      <td>M</td>\n",
       "      <td>Data Engineer</td>\n",
       "    </tr>\n",
       "    <tr>\n",
       "      <th>3</th>\n",
       "      <td>2020</td>\n",
       "      <td>MI</td>\n",
       "      <td>FT</td>\n",
       "      <td>Product Data Analyst</td>\n",
       "      <td>20000</td>\n",
       "      <td>USD</td>\n",
       "      <td>20000</td>\n",
       "      <td>HN</td>\n",
       "      <td>0</td>\n",
       "      <td>HN</td>\n",
       "      <td>S</td>\n",
       "      <td>Data Analyst</td>\n",
       "    </tr>\n",
       "    <tr>\n",
       "      <th>4</th>\n",
       "      <td>2020</td>\n",
       "      <td>SE</td>\n",
       "      <td>FT</td>\n",
       "      <td>Machine Learning Engineer</td>\n",
       "      <td>150000</td>\n",
       "      <td>USD</td>\n",
       "      <td>150000</td>\n",
       "      <td>US</td>\n",
       "      <td>50</td>\n",
       "      <td>US</td>\n",
       "      <td>L</td>\n",
       "      <td>AI Professionals</td>\n",
       "    </tr>\n",
       "    <tr>\n",
       "      <th>...</th>\n",
       "      <td>...</td>\n",
       "      <td>...</td>\n",
       "      <td>...</td>\n",
       "      <td>...</td>\n",
       "      <td>...</td>\n",
       "      <td>...</td>\n",
       "      <td>...</td>\n",
       "      <td>...</td>\n",
       "      <td>...</td>\n",
       "      <td>...</td>\n",
       "      <td>...</td>\n",
       "      <td>...</td>\n",
       "    </tr>\n",
       "    <tr>\n",
       "      <th>602</th>\n",
       "      <td>2022</td>\n",
       "      <td>SE</td>\n",
       "      <td>FT</td>\n",
       "      <td>Data Engineer</td>\n",
       "      <td>154000</td>\n",
       "      <td>USD</td>\n",
       "      <td>154000</td>\n",
       "      <td>US</td>\n",
       "      <td>100</td>\n",
       "      <td>US</td>\n",
       "      <td>M</td>\n",
       "      <td>Data Engineer</td>\n",
       "    </tr>\n",
       "    <tr>\n",
       "      <th>603</th>\n",
       "      <td>2022</td>\n",
       "      <td>SE</td>\n",
       "      <td>FT</td>\n",
       "      <td>Data Engineer</td>\n",
       "      <td>126000</td>\n",
       "      <td>USD</td>\n",
       "      <td>126000</td>\n",
       "      <td>US</td>\n",
       "      <td>100</td>\n",
       "      <td>US</td>\n",
       "      <td>M</td>\n",
       "      <td>Data Engineer</td>\n",
       "    </tr>\n",
       "    <tr>\n",
       "      <th>604</th>\n",
       "      <td>2022</td>\n",
       "      <td>SE</td>\n",
       "      <td>FT</td>\n",
       "      <td>Data Analyst</td>\n",
       "      <td>129000</td>\n",
       "      <td>USD</td>\n",
       "      <td>129000</td>\n",
       "      <td>US</td>\n",
       "      <td>0</td>\n",
       "      <td>US</td>\n",
       "      <td>M</td>\n",
       "      <td>Data Analyst</td>\n",
       "    </tr>\n",
       "    <tr>\n",
       "      <th>605</th>\n",
       "      <td>2022</td>\n",
       "      <td>SE</td>\n",
       "      <td>FT</td>\n",
       "      <td>Data Analyst</td>\n",
       "      <td>150000</td>\n",
       "      <td>USD</td>\n",
       "      <td>150000</td>\n",
       "      <td>US</td>\n",
       "      <td>100</td>\n",
       "      <td>US</td>\n",
       "      <td>M</td>\n",
       "      <td>Data Analyst</td>\n",
       "    </tr>\n",
       "    <tr>\n",
       "      <th>606</th>\n",
       "      <td>2022</td>\n",
       "      <td>MI</td>\n",
       "      <td>FT</td>\n",
       "      <td>AI Scientist</td>\n",
       "      <td>200000</td>\n",
       "      <td>USD</td>\n",
       "      <td>200000</td>\n",
       "      <td>IN</td>\n",
       "      <td>100</td>\n",
       "      <td>US</td>\n",
       "      <td>L</td>\n",
       "      <td>AI Professionals</td>\n",
       "    </tr>\n",
       "  </tbody>\n",
       "</table>\n",
       "<p>607 rows × 12 columns</p>\n",
       "</div>"
      ],
      "text/plain": [
       "     work_year experience_level employment_type                   job_title  \\\n",
       "0         2020               MI              FT              Data Scientist   \n",
       "1         2020               SE              FT  Machine Learning Scientist   \n",
       "2         2020               SE              FT           Big Data Engineer   \n",
       "3         2020               MI              FT        Product Data Analyst   \n",
       "4         2020               SE              FT   Machine Learning Engineer   \n",
       "..         ...              ...             ...                         ...   \n",
       "602       2022               SE              FT               Data Engineer   \n",
       "603       2022               SE              FT               Data Engineer   \n",
       "604       2022               SE              FT                Data Analyst   \n",
       "605       2022               SE              FT                Data Analyst   \n",
       "606       2022               MI              FT                AI Scientist   \n",
       "\n",
       "     salary salary_currency  salary_in_usd employee_residence  remote_ratio  \\\n",
       "0     70000             EUR          79833                 DE             0   \n",
       "1    260000             USD         260000                 JP             0   \n",
       "2     85000             GBP         109024                 GB            50   \n",
       "3     20000             USD          20000                 HN             0   \n",
       "4    150000             USD         150000                 US            50   \n",
       "..      ...             ...            ...                ...           ...   \n",
       "602  154000             USD         154000                 US           100   \n",
       "603  126000             USD         126000                 US           100   \n",
       "604  129000             USD         129000                 US             0   \n",
       "605  150000             USD         150000                 US           100   \n",
       "606  200000             USD         200000                 IN           100   \n",
       "\n",
       "    company_location company_size      job_category  \n",
       "0                 DE            L    Data Scientist  \n",
       "1                 JP            S    Data Scientist  \n",
       "2                 GB            M     Data Engineer  \n",
       "3                 HN            S      Data Analyst  \n",
       "4                 US            L  AI Professionals  \n",
       "..               ...          ...               ...  \n",
       "602               US            M     Data Engineer  \n",
       "603               US            M     Data Engineer  \n",
       "604               US            M      Data Analyst  \n",
       "605               US            M      Data Analyst  \n",
       "606               US            L  AI Professionals  \n",
       "\n",
       "[607 rows x 12 columns]"
      ]
     },
     "execution_count": 5,
     "metadata": {},
     "output_type": "execute_result"
    }
   ],
   "source": [
    "stipendi_df_raw.drop(['Unnamed: 0'], axis= 1, inplace= True)\n",
    "stipendi_df_raw"
   ]
  },
  {
   "cell_type": "code",
   "execution_count": 6,
   "metadata": {},
   "outputs": [
    {
     "data": {
      "text/html": [
       "<div>\n",
       "<style scoped>\n",
       "    .dataframe tbody tr th:only-of-type {\n",
       "        vertical-align: middle;\n",
       "    }\n",
       "\n",
       "    .dataframe tbody tr th {\n",
       "        vertical-align: top;\n",
       "    }\n",
       "\n",
       "    .dataframe thead th {\n",
       "        text-align: right;\n",
       "    }\n",
       "</style>\n",
       "<table border=\"1\" class=\"dataframe\">\n",
       "  <thead>\n",
       "    <tr style=\"text-align: right;\">\n",
       "      <th></th>\n",
       "      <th>work_year</th>\n",
       "      <th>experience_level</th>\n",
       "      <th>employment_type</th>\n",
       "      <th>job_title</th>\n",
       "      <th>salary</th>\n",
       "      <th>salary_currency</th>\n",
       "      <th>salary_in_usd</th>\n",
       "      <th>employee_residence</th>\n",
       "      <th>remote_ratio</th>\n",
       "      <th>company_location</th>\n",
       "      <th>company_size</th>\n",
       "      <th>job_category</th>\n",
       "    </tr>\n",
       "  </thead>\n",
       "  <tbody>\n",
       "    <tr>\n",
       "      <th>0</th>\n",
       "      <td>2020</td>\n",
       "      <td>MI</td>\n",
       "      <td>FT</td>\n",
       "      <td>Data Scientist</td>\n",
       "      <td>70000</td>\n",
       "      <td>EUR</td>\n",
       "      <td>79833</td>\n",
       "      <td>DE</td>\n",
       "      <td>0</td>\n",
       "      <td>DE</td>\n",
       "      <td>L</td>\n",
       "      <td>Data Scientist</td>\n",
       "    </tr>\n",
       "    <tr>\n",
       "      <th>1</th>\n",
       "      <td>2020</td>\n",
       "      <td>SE</td>\n",
       "      <td>FT</td>\n",
       "      <td>Machine Learning Scientist</td>\n",
       "      <td>260000</td>\n",
       "      <td>USD</td>\n",
       "      <td>260000</td>\n",
       "      <td>JP</td>\n",
       "      <td>0</td>\n",
       "      <td>JP</td>\n",
       "      <td>S</td>\n",
       "      <td>Data Scientist</td>\n",
       "    </tr>\n",
       "    <tr>\n",
       "      <th>2</th>\n",
       "      <td>2020</td>\n",
       "      <td>SE</td>\n",
       "      <td>FT</td>\n",
       "      <td>Big Data Engineer</td>\n",
       "      <td>85000</td>\n",
       "      <td>GBP</td>\n",
       "      <td>109024</td>\n",
       "      <td>GB</td>\n",
       "      <td>50</td>\n",
       "      <td>GB</td>\n",
       "      <td>M</td>\n",
       "      <td>Data Engineer</td>\n",
       "    </tr>\n",
       "    <tr>\n",
       "      <th>3</th>\n",
       "      <td>2020</td>\n",
       "      <td>MI</td>\n",
       "      <td>FT</td>\n",
       "      <td>Product Data Analyst</td>\n",
       "      <td>20000</td>\n",
       "      <td>USD</td>\n",
       "      <td>20000</td>\n",
       "      <td>HN</td>\n",
       "      <td>0</td>\n",
       "      <td>HN</td>\n",
       "      <td>S</td>\n",
       "      <td>Data Analyst</td>\n",
       "    </tr>\n",
       "    <tr>\n",
       "      <th>4</th>\n",
       "      <td>2020</td>\n",
       "      <td>SE</td>\n",
       "      <td>FT</td>\n",
       "      <td>Machine Learning Engineer</td>\n",
       "      <td>150000</td>\n",
       "      <td>USD</td>\n",
       "      <td>150000</td>\n",
       "      <td>US</td>\n",
       "      <td>50</td>\n",
       "      <td>US</td>\n",
       "      <td>L</td>\n",
       "      <td>AI Professionals</td>\n",
       "    </tr>\n",
       "  </tbody>\n",
       "</table>\n",
       "</div>"
      ],
      "text/plain": [
       "   work_year experience_level employment_type                   job_title  \\\n",
       "0       2020               MI              FT              Data Scientist   \n",
       "1       2020               SE              FT  Machine Learning Scientist   \n",
       "2       2020               SE              FT           Big Data Engineer   \n",
       "3       2020               MI              FT        Product Data Analyst   \n",
       "4       2020               SE              FT   Machine Learning Engineer   \n",
       "\n",
       "   salary salary_currency  salary_in_usd employee_residence  remote_ratio  \\\n",
       "0   70000             EUR          79833                 DE             0   \n",
       "1  260000             USD         260000                 JP             0   \n",
       "2   85000             GBP         109024                 GB            50   \n",
       "3   20000             USD          20000                 HN             0   \n",
       "4  150000             USD         150000                 US            50   \n",
       "\n",
       "  company_location company_size      job_category  \n",
       "0               DE            L    Data Scientist  \n",
       "1               JP            S    Data Scientist  \n",
       "2               GB            M     Data Engineer  \n",
       "3               HN            S      Data Analyst  \n",
       "4               US            L  AI Professionals  "
      ]
     },
     "execution_count": 6,
     "metadata": {},
     "output_type": "execute_result"
    }
   ],
   "source": [
    "stipendi_df = stipendi_df_raw.copy()\n",
    "\n",
    "stipendi_df = stipendi_df[(stipendi_df['employment_type'] != 'PT') & (stipendi_df['employment_type'] != 'CT') & (stipendi_df['employment_type'] != 'FL')]\n",
    "stipendi_df.head(5)"
   ]
  },
  {
   "cell_type": "code",
   "execution_count": 7,
   "metadata": {},
   "outputs": [
    {
     "data": {
      "text/html": [
       "<div>\n",
       "<style scoped>\n",
       "    .dataframe tbody tr th:only-of-type {\n",
       "        vertical-align: middle;\n",
       "    }\n",
       "\n",
       "    .dataframe tbody tr th {\n",
       "        vertical-align: top;\n",
       "    }\n",
       "\n",
       "    .dataframe thead th {\n",
       "        text-align: right;\n",
       "    }\n",
       "</style>\n",
       "<table border=\"1\" class=\"dataframe\">\n",
       "  <thead>\n",
       "    <tr style=\"text-align: right;\">\n",
       "      <th></th>\n",
       "      <th>job_title</th>\n",
       "      <th>salary_in_usd</th>\n",
       "      <th>company_location</th>\n",
       "    </tr>\n",
       "  </thead>\n",
       "  <tbody>\n",
       "    <tr>\n",
       "      <th>0</th>\n",
       "      <td>Data Scientist</td>\n",
       "      <td>79833</td>\n",
       "      <td>DE</td>\n",
       "    </tr>\n",
       "    <tr>\n",
       "      <th>1</th>\n",
       "      <td>Machine Learning Scientist</td>\n",
       "      <td>260000</td>\n",
       "      <td>JP</td>\n",
       "    </tr>\n",
       "    <tr>\n",
       "      <th>2</th>\n",
       "      <td>Big Data Engineer</td>\n",
       "      <td>109024</td>\n",
       "      <td>GB</td>\n",
       "    </tr>\n",
       "    <tr>\n",
       "      <th>3</th>\n",
       "      <td>Product Data Analyst</td>\n",
       "      <td>20000</td>\n",
       "      <td>HN</td>\n",
       "    </tr>\n",
       "    <tr>\n",
       "      <th>4</th>\n",
       "      <td>Machine Learning Engineer</td>\n",
       "      <td>150000</td>\n",
       "      <td>US</td>\n",
       "    </tr>\n",
       "    <tr>\n",
       "      <th>...</th>\n",
       "      <td>...</td>\n",
       "      <td>...</td>\n",
       "      <td>...</td>\n",
       "    </tr>\n",
       "    <tr>\n",
       "      <th>602</th>\n",
       "      <td>Data Engineer</td>\n",
       "      <td>154000</td>\n",
       "      <td>US</td>\n",
       "    </tr>\n",
       "    <tr>\n",
       "      <th>603</th>\n",
       "      <td>Data Engineer</td>\n",
       "      <td>126000</td>\n",
       "      <td>US</td>\n",
       "    </tr>\n",
       "    <tr>\n",
       "      <th>604</th>\n",
       "      <td>Data Analyst</td>\n",
       "      <td>129000</td>\n",
       "      <td>US</td>\n",
       "    </tr>\n",
       "    <tr>\n",
       "      <th>605</th>\n",
       "      <td>Data Analyst</td>\n",
       "      <td>150000</td>\n",
       "      <td>US</td>\n",
       "    </tr>\n",
       "    <tr>\n",
       "      <th>606</th>\n",
       "      <td>AI Scientist</td>\n",
       "      <td>200000</td>\n",
       "      <td>US</td>\n",
       "    </tr>\n",
       "  </tbody>\n",
       "</table>\n",
       "<p>588 rows × 3 columns</p>\n",
       "</div>"
      ],
      "text/plain": [
       "                      job_title  salary_in_usd company_location\n",
       "0                Data Scientist          79833               DE\n",
       "1    Machine Learning Scientist         260000               JP\n",
       "2             Big Data Engineer         109024               GB\n",
       "3          Product Data Analyst          20000               HN\n",
       "4     Machine Learning Engineer         150000               US\n",
       "..                          ...            ...              ...\n",
       "602               Data Engineer         154000               US\n",
       "603               Data Engineer         126000               US\n",
       "604                Data Analyst         129000               US\n",
       "605                Data Analyst         150000               US\n",
       "606                AI Scientist         200000               US\n",
       "\n",
       "[588 rows x 3 columns]"
      ]
     },
     "execution_count": 7,
     "metadata": {},
     "output_type": "execute_result"
    }
   ],
   "source": [
    "subset_stipendio_paese = stipendi_df[['job_title', 'salary_in_usd', 'company_location']]\n",
    "subset_stipendio_paese"
   ]
  },
  {
   "cell_type": "code",
   "execution_count": 8,
   "metadata": {},
   "outputs": [
    {
     "data": {
      "text/plain": [
       "array(['Data Scientist', 'Machine Learning Scientist',\n",
       "       'Big Data Engineer', 'Product Data Analyst',\n",
       "       'Machine Learning Engineer', 'Data Analyst', 'Lead Data Scientist',\n",
       "       'Business Data Analyst', 'Lead Data Engineer', 'Lead Data Analyst',\n",
       "       'Data Engineer', 'Data Science Consultant', 'BI Data Analyst',\n",
       "       'Director of Data Science', 'Research Scientist',\n",
       "       'Machine Learning Manager', 'Data Engineering Manager',\n",
       "       'Machine Learning Infrastructure Engineer', 'AI Scientist',\n",
       "       'Principal Data Scientist', 'Data Science Manager', 'Head of Data',\n",
       "       'Data Analytics Engineer', 'Applied Data Scientist',\n",
       "       'Marketing Data Analyst', 'Cloud Data Engineer',\n",
       "       'Financial Data Analyst', 'Computer Vision Software Engineer',\n",
       "       'Director of Data Engineering', 'Data Science Engineer',\n",
       "       'Principal Data Engineer', 'Machine Learning Developer',\n",
       "       'Applied Machine Learning Scientist', 'Computer Vision Engineer',\n",
       "       'ML Engineer', 'Data Analytics Manager', 'Head of Data Science',\n",
       "       'Data Specialist', 'Data Architect', 'Finance Data Analyst',\n",
       "       'Principal Data Analyst', 'Big Data Architect',\n",
       "       'Analytics Engineer', 'ETL Developer', 'Head of Machine Learning',\n",
       "       'NLP Engineer', 'Lead Machine Learning Engineer',\n",
       "       'Data Analytics Lead'], dtype=object)"
      ]
     },
     "execution_count": 8,
     "metadata": {},
     "output_type": "execute_result"
    }
   ],
   "source": [
    "subset_stipendio_paese.job_title.unique()"
   ]
  },
  {
   "cell_type": "code",
   "execution_count": 9,
   "metadata": {},
   "outputs": [
    {
     "data": {
      "text/plain": [
       "employment_type\n",
       "FT    588\n",
       "Name: count, dtype: int64"
      ]
     },
     "execution_count": 9,
     "metadata": {},
     "output_type": "execute_result"
    }
   ],
   "source": [
    "stipendi_df.employment_type.value_counts()"
   ]
  },
  {
   "cell_type": "code",
   "execution_count": 10,
   "metadata": {},
   "outputs": [
    {
     "data": {
      "text/plain": [
       "job_title\n",
       "Data Scientist               140\n",
       "Data Engineer                129\n",
       "Data Analyst                  96\n",
       "Machine Learning Engineer     41\n",
       "Name: count, dtype: int64"
      ]
     },
     "execution_count": 10,
     "metadata": {},
     "output_type": "execute_result"
    }
   ],
   "source": [
    "subset_stipendio_paese['job_title'].value_counts().head(4)"
   ]
  },
  {
   "cell_type": "code",
   "execution_count": 11,
   "metadata": {},
   "outputs": [],
   "source": [
    "subset_stipendio_grandezza_compagnia = stipendi_df.groupby(['company_size'], as_index= False)['salary_in_usd'].mean().sort_values('salary_in_usd', ascending= False)\n",
    "subset_stipendio_grandezza_compagnia.columns = ['company_size', 'avg_salary_in_usd']"
   ]
  },
  {
   "cell_type": "code",
   "execution_count": 12,
   "metadata": {},
   "outputs": [
    {
     "data": {
      "text/plain": [
       "<Axes: xlabel='company_size', ylabel='avg_salary_in_usd'>"
      ]
     },
     "execution_count": 12,
     "metadata": {},
     "output_type": "execute_result"
    },
    {
     "data": {
      "image/png": "[encoded data removed]",
      "text/plain": [
       "<Figure size 640x480 with 1 Axes>"
      ]
     },
     "metadata": {},
     "output_type": "display_data"
    }
   ],
   "source": [
    "sns.barplot(data= subset_stipendio_grandezza_compagnia, x= 'company_size', y= 'avg_salary_in_usd')\n"
   ]
  },
  {
   "cell_type": "code",
   "execution_count": 13,
   "metadata": {},
   "outputs": [
    {
     "data": {
      "text/html": [
       "<div>\n",
       "<style scoped>\n",
       "    .dataframe tbody tr th:only-of-type {\n",
       "        vertical-align: middle;\n",
       "    }\n",
       "\n",
       "    .dataframe tbody tr th {\n",
       "        vertical-align: top;\n",
       "    }\n",
       "\n",
       "    .dataframe thead th {\n",
       "        text-align: right;\n",
       "    }\n",
       "</style>\n",
       "<table border=\"1\" class=\"dataframe\">\n",
       "  <thead>\n",
       "    <tr style=\"text-align: right;\">\n",
       "      <th></th>\n",
       "      <th>work_year</th>\n",
       "      <th>experience_level</th>\n",
       "      <th>employment_type</th>\n",
       "      <th>job_title</th>\n",
       "      <th>salary</th>\n",
       "      <th>salary_currency</th>\n",
       "      <th>salary_in_usd</th>\n",
       "      <th>employee_residence</th>\n",
       "      <th>remote_ratio</th>\n",
       "      <th>company_location</th>\n",
       "      <th>company_size</th>\n",
       "      <th>job_category</th>\n",
       "    </tr>\n",
       "  </thead>\n",
       "  <tbody>\n",
       "    <tr>\n",
       "      <th>0</th>\n",
       "      <td>2020</td>\n",
       "      <td>MI</td>\n",
       "      <td>FT</td>\n",
       "      <td>Data Scientist</td>\n",
       "      <td>70000</td>\n",
       "      <td>EUR</td>\n",
       "      <td>79833</td>\n",
       "      <td>DE</td>\n",
       "      <td>0</td>\n",
       "      <td>DE</td>\n",
       "      <td>L</td>\n",
       "      <td>Data Scientist</td>\n",
       "    </tr>\n",
       "    <tr>\n",
       "      <th>4</th>\n",
       "      <td>2020</td>\n",
       "      <td>SE</td>\n",
       "      <td>FT</td>\n",
       "      <td>Machine Learning Engineer</td>\n",
       "      <td>150000</td>\n",
       "      <td>USD</td>\n",
       "      <td>150000</td>\n",
       "      <td>US</td>\n",
       "      <td>50</td>\n",
       "      <td>US</td>\n",
       "      <td>L</td>\n",
       "      <td>AI Professionals</td>\n",
       "    </tr>\n",
       "    <tr>\n",
       "      <th>5</th>\n",
       "      <td>2020</td>\n",
       "      <td>EN</td>\n",
       "      <td>FT</td>\n",
       "      <td>Data Analyst</td>\n",
       "      <td>72000</td>\n",
       "      <td>USD</td>\n",
       "      <td>72000</td>\n",
       "      <td>US</td>\n",
       "      <td>100</td>\n",
       "      <td>US</td>\n",
       "      <td>L</td>\n",
       "      <td>Data Analyst</td>\n",
       "    </tr>\n",
       "    <tr>\n",
       "      <th>7</th>\n",
       "      <td>2020</td>\n",
       "      <td>MI</td>\n",
       "      <td>FT</td>\n",
       "      <td>Data Scientist</td>\n",
       "      <td>11000000</td>\n",
       "      <td>HUF</td>\n",
       "      <td>35735</td>\n",
       "      <td>HU</td>\n",
       "      <td>50</td>\n",
       "      <td>HU</td>\n",
       "      <td>L</td>\n",
       "      <td>Data Scientist</td>\n",
       "    </tr>\n",
       "    <tr>\n",
       "      <th>10</th>\n",
       "      <td>2020</td>\n",
       "      <td>EN</td>\n",
       "      <td>FT</td>\n",
       "      <td>Data Scientist</td>\n",
       "      <td>45000</td>\n",
       "      <td>EUR</td>\n",
       "      <td>51321</td>\n",
       "      <td>FR</td>\n",
       "      <td>0</td>\n",
       "      <td>FR</td>\n",
       "      <td>S</td>\n",
       "      <td>Data Scientist</td>\n",
       "    </tr>\n",
       "    <tr>\n",
       "      <th>11</th>\n",
       "      <td>2020</td>\n",
       "      <td>MI</td>\n",
       "      <td>FT</td>\n",
       "      <td>Data Scientist</td>\n",
       "      <td>3000000</td>\n",
       "      <td>INR</td>\n",
       "      <td>40481</td>\n",
       "      <td>IN</td>\n",
       "      <td>0</td>\n",
       "      <td>IN</td>\n",
       "      <td>L</td>\n",
       "      <td>Data Scientist</td>\n",
       "    </tr>\n",
       "    <tr>\n",
       "      <th>12</th>\n",
       "      <td>2020</td>\n",
       "      <td>EN</td>\n",
       "      <td>FT</td>\n",
       "      <td>Data Scientist</td>\n",
       "      <td>35000</td>\n",
       "      <td>EUR</td>\n",
       "      <td>39916</td>\n",
       "      <td>FR</td>\n",
       "      <td>0</td>\n",
       "      <td>FR</td>\n",
       "      <td>M</td>\n",
       "      <td>Data Scientist</td>\n",
       "    </tr>\n",
       "    <tr>\n",
       "      <th>14</th>\n",
       "      <td>2020</td>\n",
       "      <td>MI</td>\n",
       "      <td>FT</td>\n",
       "      <td>Data Analyst</td>\n",
       "      <td>85000</td>\n",
       "      <td>USD</td>\n",
       "      <td>85000</td>\n",
       "      <td>US</td>\n",
       "      <td>100</td>\n",
       "      <td>US</td>\n",
       "      <td>L</td>\n",
       "      <td>Data Analyst</td>\n",
       "    </tr>\n",
       "    <tr>\n",
       "      <th>15</th>\n",
       "      <td>2020</td>\n",
       "      <td>MI</td>\n",
       "      <td>FT</td>\n",
       "      <td>Data Analyst</td>\n",
       "      <td>8000</td>\n",
       "      <td>USD</td>\n",
       "      <td>8000</td>\n",
       "      <td>PK</td>\n",
       "      <td>50</td>\n",
       "      <td>PK</td>\n",
       "      <td>L</td>\n",
       "      <td>Data Analyst</td>\n",
       "    </tr>\n",
       "    <tr>\n",
       "      <th>16</th>\n",
       "      <td>2020</td>\n",
       "      <td>EN</td>\n",
       "      <td>FT</td>\n",
       "      <td>Data Engineer</td>\n",
       "      <td>4450000</td>\n",
       "      <td>JPY</td>\n",
       "      <td>41689</td>\n",
       "      <td>JP</td>\n",
       "      <td>100</td>\n",
       "      <td>JP</td>\n",
       "      <td>S</td>\n",
       "      <td>Data Engineer</td>\n",
       "    </tr>\n",
       "    <tr>\n",
       "      <th>20</th>\n",
       "      <td>2020</td>\n",
       "      <td>MI</td>\n",
       "      <td>FT</td>\n",
       "      <td>Machine Learning Engineer</td>\n",
       "      <td>299000</td>\n",
       "      <td>CNY</td>\n",
       "      <td>43331</td>\n",
       "      <td>CN</td>\n",
       "      <td>0</td>\n",
       "      <td>CN</td>\n",
       "      <td>M</td>\n",
       "      <td>AI Professionals</td>\n",
       "    </tr>\n",
       "    <tr>\n",
       "      <th>22</th>\n",
       "      <td>2020</td>\n",
       "      <td>SE</td>\n",
       "      <td>FT</td>\n",
       "      <td>Data Engineer</td>\n",
       "      <td>42000</td>\n",
       "      <td>EUR</td>\n",
       "      <td>47899</td>\n",
       "      <td>GR</td>\n",
       "      <td>50</td>\n",
       "      <td>GR</td>\n",
       "      <td>L</td>\n",
       "      <td>Data Engineer</td>\n",
       "    </tr>\n",
       "    <tr>\n",
       "      <th>27</th>\n",
       "      <td>2020</td>\n",
       "      <td>SE</td>\n",
       "      <td>FT</td>\n",
       "      <td>Data Engineer</td>\n",
       "      <td>720000</td>\n",
       "      <td>MXN</td>\n",
       "      <td>33511</td>\n",
       "      <td>MX</td>\n",
       "      <td>0</td>\n",
       "      <td>MX</td>\n",
       "      <td>S</td>\n",
       "      <td>Data Engineer</td>\n",
       "    </tr>\n",
       "    <tr>\n",
       "      <th>32</th>\n",
       "      <td>2020</td>\n",
       "      <td>SE</td>\n",
       "      <td>FT</td>\n",
       "      <td>Data Scientist</td>\n",
       "      <td>60000</td>\n",
       "      <td>EUR</td>\n",
       "      <td>68428</td>\n",
       "      <td>GR</td>\n",
       "      <td>100</td>\n",
       "      <td>US</td>\n",
       "      <td>L</td>\n",
       "      <td>Data Scientist</td>\n",
       "    </tr>\n",
       "    <tr>\n",
       "      <th>34</th>\n",
       "      <td>2020</td>\n",
       "      <td>MI</td>\n",
       "      <td>FT</td>\n",
       "      <td>Data Analyst</td>\n",
       "      <td>41000</td>\n",
       "      <td>EUR</td>\n",
       "      <td>46759</td>\n",
       "      <td>FR</td>\n",
       "      <td>50</td>\n",
       "      <td>FR</td>\n",
       "      <td>L</td>\n",
       "      <td>Data Analyst</td>\n",
       "    </tr>\n",
       "  </tbody>\n",
       "</table>\n",
       "</div>"
      ],
      "text/plain": [
       "    work_year experience_level employment_type                  job_title  \\\n",
       "0        2020               MI              FT             Data Scientist   \n",
       "4        2020               SE              FT  Machine Learning Engineer   \n",
       "5        2020               EN              FT               Data Analyst   \n",
       "7        2020               MI              FT             Data Scientist   \n",
       "10       2020               EN              FT             Data Scientist   \n",
       "11       2020               MI              FT             Data Scientist   \n",
       "12       2020               EN              FT             Data Scientist   \n",
       "14       2020               MI              FT               Data Analyst   \n",
       "15       2020               MI              FT               Data Analyst   \n",
       "16       2020               EN              FT              Data Engineer   \n",
       "20       2020               MI              FT  Machine Learning Engineer   \n",
       "22       2020               SE              FT              Data Engineer   \n",
       "27       2020               SE              FT              Data Engineer   \n",
       "32       2020               SE              FT             Data Scientist   \n",
       "34       2020               MI              FT               Data Analyst   \n",
       "\n",
       "      salary salary_currency  salary_in_usd employee_residence  remote_ratio  \\\n",
       "0      70000             EUR          79833                 DE             0   \n",
       "4     150000             USD         150000                 US            50   \n",
       "5      72000             USD          72000                 US           100   \n",
       "7   11000000             HUF          35735                 HU            50   \n",
       "10     45000             EUR          51321                 FR             0   \n",
       "11   3000000             INR          40481                 IN             0   \n",
       "12     35000             EUR          39916                 FR             0   \n",
       "14     85000             USD          85000                 US           100   \n",
       "15      8000             USD           8000                 PK            50   \n",
       "16   4450000             JPY          41689                 JP           100   \n",
       "20    299000             CNY          43331                 CN             0   \n",
       "22     42000             EUR          47899                 GR            50   \n",
       "27    720000             MXN          33511                 MX             0   \n",
       "32     60000             EUR          68428                 GR           100   \n",
       "34     41000             EUR          46759                 FR            50   \n",
       "\n",
       "   company_location company_size      job_category  \n",
       "0                DE            L    Data Scientist  \n",
       "4                US            L  AI Professionals  \n",
       "5                US            L      Data Analyst  \n",
       "7                HU            L    Data Scientist  \n",
       "10               FR            S    Data Scientist  \n",
       "11               IN            L    Data Scientist  \n",
       "12               FR            M    Data Scientist  \n",
       "14               US            L      Data Analyst  \n",
       "15               PK            L      Data Analyst  \n",
       "16               JP            S     Data Engineer  \n",
       "20               CN            M  AI Professionals  \n",
       "22               GR            L     Data Engineer  \n",
       "27               MX            S     Data Engineer  \n",
       "32               US            L    Data Scientist  \n",
       "34               FR            L      Data Analyst  "
      ]
     },
     "execution_count": 13,
     "metadata": {},
     "output_type": "execute_result"
    }
   ],
   "source": [
    "lavori = [\"Data Scientist\",\"Data Engineer\", \"Data Analyst\", \"Machine Learning Engineer\"]\n",
    "subset_ruoli_diffusi = stipendi_df[stipendi_df[\"job_title\"].isin(lavori)]\n",
    "subset_ruoli_diffusi.head(15)"
   ]
  },
  {
   "cell_type": "code",
   "execution_count": 14,
   "metadata": {},
   "outputs": [
    {
     "data": {
      "text/html": [
       "<div>\n",
       "<style scoped>\n",
       "    .dataframe tbody tr th:only-of-type {\n",
       "        vertical-align: middle;\n",
       "    }\n",
       "\n",
       "    .dataframe tbody tr th {\n",
       "        vertical-align: top;\n",
       "    }\n",
       "\n",
       "    .dataframe thead th {\n",
       "        text-align: right;\n",
       "    }\n",
       "</style>\n",
       "<table border=\"1\" class=\"dataframe\">\n",
       "  <thead>\n",
       "    <tr style=\"text-align: right;\">\n",
       "      <th></th>\n",
       "      <th>job_category</th>\n",
       "      <th>company_size</th>\n",
       "      <th>avg_salary_in_usd</th>\n",
       "    </tr>\n",
       "  </thead>\n",
       "  <tbody>\n",
       "    <tr>\n",
       "      <th>10</th>\n",
       "      <td>Data Scientist</td>\n",
       "      <td>M</td>\n",
       "      <td>132254.632653</td>\n",
       "    </tr>\n",
       "    <tr>\n",
       "      <th>9</th>\n",
       "      <td>Data Scientist</td>\n",
       "      <td>L</td>\n",
       "      <td>124392.622222</td>\n",
       "    </tr>\n",
       "    <tr>\n",
       "      <th>7</th>\n",
       "      <td>Data Engineer</td>\n",
       "      <td>M</td>\n",
       "      <td>119992.177083</td>\n",
       "    </tr>\n",
       "    <tr>\n",
       "      <th>6</th>\n",
       "      <td>Data Engineer</td>\n",
       "      <td>L</td>\n",
       "      <td>119929.250000</td>\n",
       "    </tr>\n",
       "    <tr>\n",
       "      <th>3</th>\n",
       "      <td>Data Analyst</td>\n",
       "      <td>L</td>\n",
       "      <td>116766.000000</td>\n",
       "    </tr>\n",
       "    <tr>\n",
       "      <th>1</th>\n",
       "      <td>AI Professionals</td>\n",
       "      <td>M</td>\n",
       "      <td>112120.838710</td>\n",
       "    </tr>\n",
       "    <tr>\n",
       "      <th>4</th>\n",
       "      <td>Data Analyst</td>\n",
       "      <td>M</td>\n",
       "      <td>105146.182796</td>\n",
       "    </tr>\n",
       "    <tr>\n",
       "      <th>0</th>\n",
       "      <td>AI Professionals</td>\n",
       "      <td>L</td>\n",
       "      <td>102833.250000</td>\n",
       "    </tr>\n",
       "    <tr>\n",
       "      <th>8</th>\n",
       "      <td>Data Engineer</td>\n",
       "      <td>S</td>\n",
       "      <td>97225.117647</td>\n",
       "    </tr>\n",
       "    <tr>\n",
       "      <th>2</th>\n",
       "      <td>AI Professionals</td>\n",
       "      <td>S</td>\n",
       "      <td>79722.944444</td>\n",
       "    </tr>\n",
       "    <tr>\n",
       "      <th>11</th>\n",
       "      <td>Data Scientist</td>\n",
       "      <td>S</td>\n",
       "      <td>75336.133333</td>\n",
       "    </tr>\n",
       "    <tr>\n",
       "      <th>5</th>\n",
       "      <td>Data Analyst</td>\n",
       "      <td>S</td>\n",
       "      <td>45112.000000</td>\n",
       "    </tr>\n",
       "  </tbody>\n",
       "</table>\n",
       "</div>"
      ],
      "text/plain": [
       "        job_category company_size  avg_salary_in_usd\n",
       "10    Data Scientist            M      132254.632653\n",
       "9     Data Scientist            L      124392.622222\n",
       "7      Data Engineer            M      119992.177083\n",
       "6      Data Engineer            L      119929.250000\n",
       "3       Data Analyst            L      116766.000000\n",
       "1   AI Professionals            M      112120.838710\n",
       "4       Data Analyst            M      105146.182796\n",
       "0   AI Professionals            L      102833.250000\n",
       "8      Data Engineer            S       97225.117647\n",
       "2   AI Professionals            S       79722.944444\n",
       "11    Data Scientist            S       75336.133333\n",
       "5       Data Analyst            S       45112.000000"
      ]
     },
     "execution_count": 14,
     "metadata": {},
     "output_type": "execute_result"
    }
   ],
   "source": [
    "ruoli_per_grandezza = stipendi_df.groupby(['job_category', 'company_size'], as_index= False)['salary_in_usd'].mean().sort_values('salary_in_usd', ascending= False)\n",
    "ruoli_per_grandezza.columns = ('job_category', 'company_size', 'avg_salary_in_usd')\n",
    "ruoli_per_grandezza"
   ]
  },
  {
   "cell_type": "code",
   "execution_count": 15,
   "metadata": {},
   "outputs": [
    {
     "name": "stdout",
     "output_type": "stream",
     "text": [
      "['Solarize_Light2', '_classic_test_patch', '_mpl-gallery', '_mpl-gallery-nogrid', 'bmh', 'classic', 'dark_background', 'fast', 'fivethirtyeight', 'ggplot', 'grayscale', 'seaborn-v0_8', 'seaborn-v0_8-bright', 'seaborn-v0_8-colorblind', 'seaborn-v0_8-dark', 'seaborn-v0_8-dark-palette', 'seaborn-v0_8-darkgrid', 'seaborn-v0_8-deep', 'seaborn-v0_8-muted', 'seaborn-v0_8-notebook', 'seaborn-v0_8-paper', 'seaborn-v0_8-pastel', 'seaborn-v0_8-poster', 'seaborn-v0_8-talk', 'seaborn-v0_8-ticks', 'seaborn-v0_8-white', 'seaborn-v0_8-whitegrid', 'tableau-colorblind10']\n"
     ]
    },
    {
     "data": {
      "image/png": "[encoded data removed]",
      "text/plain": [
       "<Figure size 1047.51x500 with 1 Axes>"
      ]
     },
     "metadata": {},
     "output_type": "display_data"
    }
   ],
   "source": [
    "andamento_salari = sns.catplot(data= ruoli_per_grandezza, x= 'company_size', y= 'avg_salary_in_usd', kind= 'bar', hue= 'job_category', aspect= 16/9, order= ['S', 'M', 'L'])\n",
    "plt.title('Andamento dei salari per dimensione delle aziende')\n",
    "plt.xlabel('Dimensione dell\\'azienda')\n",
    "plt.ylabel('Salario medio in USD')\n",
    "andamento_salari._legend.set_title('Tipologie di lavori')\n",
    "plt.savefig('andamento_salari_dimensione.png');\n",
    "print(plt.style.available)"
   ]
  },
  {
   "cell_type": "code",
   "execution_count": 16,
   "metadata": {},
   "outputs": [
    {
     "data": {
      "text/plain": [
       "job_title\n",
       "Data Scientist               140\n",
       "Data Engineer                129\n",
       "Data Analyst                  96\n",
       "Machine Learning Engineer     41\n",
       "Name: count, dtype: int64"
      ]
     },
     "execution_count": 16,
     "metadata": {},
     "output_type": "execute_result"
    }
   ],
   "source": [
    "subset_ruoli_diffusi['job_title'].value_counts()"
   ]
  },
  {
   "cell_type": "code",
   "execution_count": 17,
   "metadata": {},
   "outputs": [
    {
     "data": {
      "text/plain": [
       "job_category\n",
       "Data Scientist      218\n",
       "Data Engineer       161\n",
       "Data Analyst        140\n",
       "AI Professionals     69\n",
       "Name: count, dtype: int64"
      ]
     },
     "execution_count": 17,
     "metadata": {},
     "output_type": "execute_result"
    }
   ],
   "source": [
    "stipendi_df['job_category'].value_counts()"
   ]
  },
  {
   "cell_type": "code",
   "execution_count": 18,
   "metadata": {},
   "outputs": [
    {
     "data": {
      "text/plain": [
       "experience_level\n",
       "SE    278\n",
       "MI    206\n",
       "EN     79\n",
       "EX     25\n",
       "Name: count, dtype: int64"
      ]
     },
     "execution_count": 18,
     "metadata": {},
     "output_type": "execute_result"
    }
   ],
   "source": [
    "stipendi_df['experience_level'].value_counts()"
   ]
  },
  {
   "cell_type": "code",
   "execution_count": 19,
   "metadata": {},
   "outputs": [
    {
     "data": {
      "text/plain": [
       "370"
      ]
     },
     "execution_count": 19,
     "metadata": {},
     "output_type": "execute_result"
    }
   ],
   "source": [
    "stipendi_df[\"remote_ratio\"].value_counts()[0]\n",
    "stipendi_df[\"remote_ratio\"].value_counts()[50]\n",
    "stipendi_df[\"remote_ratio\"].value_counts()[100]"
   ]
  },
  {
   "cell_type": "code",
   "execution_count": 20,
   "metadata": {},
   "outputs": [
    {
     "data": {
      "image/png": "[encoded data removed]",
      "text/plain": [
       "<Figure size 600x600 with 1 Axes>"
      ]
     },
     "metadata": {},
     "output_type": "display_data"
    }
   ],
   "source": [
    "mean_salary_experience = stipendi_df.groupby(\"experience_level\")[\"salary_in_usd\"].mean().sort_values()\n",
    "\n",
    "sns.set_style(\"whitegrid\")\n",
    "\n",
    "plt.figure(figsize=(6, 6))\n",
    "sns.set_palette(\"spring\")\n",
    "\n",
    "plt.plot\n",
    "ax = sns.barplot(x=mean_salary_experience.index, y=mean_salary_experience)\n",
    "ax.set_title(\"Mean Salary vs Experience Level\", fontdict={'fontsize': 14});"
   ]
  },
  {
   "cell_type": "code",
   "execution_count": 21,
   "metadata": {},
   "outputs": [
    {
     "data": {
      "image/png": "[encoded data removed]",
      "text/plain": [
       "<Figure size 1000x600 with 1 Axes>"
      ]
     },
     "metadata": {},
     "output_type": "display_data"
    }
   ],
   "source": [
    "\n",
    "\n",
    "lavori_da_remoto = [stipendi_df[\"remote_ratio\"].value_counts()[0], stipendi_df[\"remote_ratio\"].value_counts()[50], stipendi_df[\"remote_ratio\"].value_counts()[100]]\n",
    "plt.style.use('fivethirtyeight')\n",
    "plt.figure(figsize=(10, 6))\n",
    "\n",
    "plt.pie(lavori_da_remoto, labels= [\"in place\",\"hybrid\",\"full remote\"],autopct='%1.1f%%')\n",
    "plt.title(\"Percentuale di lavoratori che lavorano da remoto\", c = \"r\")\n",
    "plt.show()"
   ]
  },
  {
   "cell_type": "code",
   "execution_count": 22,
   "metadata": {},
   "outputs": [
    {
     "data": {
      "image/png": "[encoded data removed]",
      "text/plain": [
       "<Figure size 1200x600 with 1 Axes>"
      ]
     },
     "metadata": {},
     "output_type": "display_data"
    }
   ],
   "source": [
    "plt.style.use('fivethirtyeight')\n",
    "plt.figure(figsize=(12, 6))\n",
    "sns.barplot(data = stipendi_df, x = \"job_category\", y = 'salary_in_usd')\n",
    "\n",
    "\n",
    "plt.title(\"Stipendi in base al tipo di lavoro\", c= \"r\")\n",
    "plt.xlabel('Lavori')\n",
    "plt.ylabel('Stipendi annuali');"
   ]
  },
  {
   "cell_type": "code",
   "execution_count": 23,
   "metadata": {},
   "outputs": [],
   "source": [
    "subset_per_heatmap = stipendi_df.drop(['salary'], axis = 1)"
   ]
  },
  {
   "cell_type": "code",
   "execution_count": 24,
   "metadata": {},
   "outputs": [
    {
     "data": {
      "image/png": "[encoded data removed]",
      "text/plain": [
       "<Figure size 640x480 with 2 Axes>"
      ]
     },
     "metadata": {},
     "output_type": "display_data"
    }
   ],
   "source": [
    "sns.heatmap(subset_per_heatmap.describe().corr());"
   ]
  },
  {
   "cell_type": "code",
   "execution_count": 25,
   "metadata": {},
   "outputs": [
    {
     "data": {
      "text/html": [
       "<div>\n",
       "<style scoped>\n",
       "    .dataframe tbody tr th:only-of-type {\n",
       "        vertical-align: middle;\n",
       "    }\n",
       "\n",
       "    .dataframe tbody tr th {\n",
       "        vertical-align: top;\n",
       "    }\n",
       "\n",
       "    .dataframe thead th {\n",
       "        text-align: right;\n",
       "    }\n",
       "</style>\n",
       "<table border=\"1\" class=\"dataframe\">\n",
       "  <thead>\n",
       "    <tr style=\"text-align: right;\">\n",
       "      <th></th>\n",
       "      <th>work_year</th>\n",
       "      <th>experience_level</th>\n",
       "      <th>employment_type</th>\n",
       "      <th>job_title</th>\n",
       "      <th>salary</th>\n",
       "      <th>salary_currency</th>\n",
       "      <th>salary_in_usd</th>\n",
       "      <th>employee_residence</th>\n",
       "      <th>remote_ratio</th>\n",
       "      <th>company_location</th>\n",
       "      <th>company_size</th>\n",
       "      <th>job_category</th>\n",
       "    </tr>\n",
       "  </thead>\n",
       "  <tbody>\n",
       "    <tr>\n",
       "      <th>252</th>\n",
       "      <td>2021</td>\n",
       "      <td>EX</td>\n",
       "      <td>FT</td>\n",
       "      <td>Principal Data Engineer</td>\n",
       "      <td>600000</td>\n",
       "      <td>USD</td>\n",
       "      <td>600000</td>\n",
       "      <td>US</td>\n",
       "      <td>100</td>\n",
       "      <td>US</td>\n",
       "      <td>L</td>\n",
       "      <td>Data Engineer</td>\n",
       "    </tr>\n",
       "    <tr>\n",
       "      <th>482</th>\n",
       "      <td>2022</td>\n",
       "      <td>EX</td>\n",
       "      <td>FT</td>\n",
       "      <td>Data Engineer</td>\n",
       "      <td>324000</td>\n",
       "      <td>USD</td>\n",
       "      <td>324000</td>\n",
       "      <td>US</td>\n",
       "      <td>100</td>\n",
       "      <td>US</td>\n",
       "      <td>M</td>\n",
       "      <td>Data Engineer</td>\n",
       "    </tr>\n",
       "    <tr>\n",
       "      <th>93</th>\n",
       "      <td>2021</td>\n",
       "      <td>SE</td>\n",
       "      <td>FT</td>\n",
       "      <td>Lead Data Engineer</td>\n",
       "      <td>276000</td>\n",
       "      <td>USD</td>\n",
       "      <td>276000</td>\n",
       "      <td>US</td>\n",
       "      <td>0</td>\n",
       "      <td>US</td>\n",
       "      <td>L</td>\n",
       "      <td>Data Engineer</td>\n",
       "    </tr>\n",
       "    <tr>\n",
       "      <th>231</th>\n",
       "      <td>2021</td>\n",
       "      <td>SE</td>\n",
       "      <td>FT</td>\n",
       "      <td>ML Engineer</td>\n",
       "      <td>256000</td>\n",
       "      <td>USD</td>\n",
       "      <td>256000</td>\n",
       "      <td>US</td>\n",
       "      <td>100</td>\n",
       "      <td>US</td>\n",
       "      <td>S</td>\n",
       "      <td>Data Engineer</td>\n",
       "    </tr>\n",
       "    <tr>\n",
       "      <th>337</th>\n",
       "      <td>2022</td>\n",
       "      <td>SE</td>\n",
       "      <td>FT</td>\n",
       "      <td>Data Engineer</td>\n",
       "      <td>243900</td>\n",
       "      <td>USD</td>\n",
       "      <td>243900</td>\n",
       "      <td>US</td>\n",
       "      <td>100</td>\n",
       "      <td>US</td>\n",
       "      <td>M</td>\n",
       "      <td>Data Engineer</td>\n",
       "    </tr>\n",
       "    <tr>\n",
       "      <th>...</th>\n",
       "      <td>...</td>\n",
       "      <td>...</td>\n",
       "      <td>...</td>\n",
       "      <td>...</td>\n",
       "      <td>...</td>\n",
       "      <td>...</td>\n",
       "      <td>...</td>\n",
       "      <td>...</td>\n",
       "      <td>...</td>\n",
       "      <td>...</td>\n",
       "      <td>...</td>\n",
       "      <td>...</td>\n",
       "    </tr>\n",
       "    <tr>\n",
       "      <th>192</th>\n",
       "      <td>2021</td>\n",
       "      <td>MI</td>\n",
       "      <td>FT</td>\n",
       "      <td>Big Data Engineer</td>\n",
       "      <td>18000</td>\n",
       "      <td>USD</td>\n",
       "      <td>18000</td>\n",
       "      <td>MD</td>\n",
       "      <td>0</td>\n",
       "      <td>MD</td>\n",
       "      <td>S</td>\n",
       "      <td>Data Engineer</td>\n",
       "    </tr>\n",
       "    <tr>\n",
       "      <th>230</th>\n",
       "      <td>2021</td>\n",
       "      <td>EN</td>\n",
       "      <td>FT</td>\n",
       "      <td>Big Data Engineer</td>\n",
       "      <td>1200000</td>\n",
       "      <td>INR</td>\n",
       "      <td>16228</td>\n",
       "      <td>IN</td>\n",
       "      <td>100</td>\n",
       "      <td>IN</td>\n",
       "      <td>L</td>\n",
       "      <td>Data Engineer</td>\n",
       "    </tr>\n",
       "    <tr>\n",
       "      <th>247</th>\n",
       "      <td>2021</td>\n",
       "      <td>MI</td>\n",
       "      <td>FT</td>\n",
       "      <td>Data Engineer</td>\n",
       "      <td>108000</td>\n",
       "      <td>TRY</td>\n",
       "      <td>12103</td>\n",
       "      <td>TR</td>\n",
       "      <td>0</td>\n",
       "      <td>TR</td>\n",
       "      <td>M</td>\n",
       "      <td>Data Engineer</td>\n",
       "    </tr>\n",
       "    <tr>\n",
       "      <th>213</th>\n",
       "      <td>2021</td>\n",
       "      <td>EN</td>\n",
       "      <td>FT</td>\n",
       "      <td>Big Data Engineer</td>\n",
       "      <td>435000</td>\n",
       "      <td>INR</td>\n",
       "      <td>5882</td>\n",
       "      <td>IN</td>\n",
       "      <td>0</td>\n",
       "      <td>CH</td>\n",
       "      <td>L</td>\n",
       "      <td>Data Engineer</td>\n",
       "    </tr>\n",
       "    <tr>\n",
       "      <th>185</th>\n",
       "      <td>2021</td>\n",
       "      <td>MI</td>\n",
       "      <td>FT</td>\n",
       "      <td>Data Engineer</td>\n",
       "      <td>4000</td>\n",
       "      <td>USD</td>\n",
       "      <td>4000</td>\n",
       "      <td>IR</td>\n",
       "      <td>100</td>\n",
       "      <td>IR</td>\n",
       "      <td>M</td>\n",
       "      <td>Data Engineer</td>\n",
       "    </tr>\n",
       "  </tbody>\n",
       "</table>\n",
       "<p>161 rows × 12 columns</p>\n",
       "</div>"
      ],
      "text/plain": [
       "     work_year experience_level employment_type                job_title  \\\n",
       "252       2021               EX              FT  Principal Data Engineer   \n",
       "482       2022               EX              FT            Data Engineer   \n",
       "93        2021               SE              FT       Lead Data Engineer   \n",
       "231       2021               SE              FT              ML Engineer   \n",
       "337       2022               SE              FT            Data Engineer   \n",
       "..         ...              ...             ...                      ...   \n",
       "192       2021               MI              FT        Big Data Engineer   \n",
       "230       2021               EN              FT        Big Data Engineer   \n",
       "247       2021               MI              FT            Data Engineer   \n",
       "213       2021               EN              FT        Big Data Engineer   \n",
       "185       2021               MI              FT            Data Engineer   \n",
       "\n",
       "      salary salary_currency  salary_in_usd employee_residence  remote_ratio  \\\n",
       "252   600000             USD         600000                 US           100   \n",
       "482   324000             USD         324000                 US           100   \n",
       "93    276000             USD         276000                 US             0   \n",
       "231   256000             USD         256000                 US           100   \n",
       "337   243900             USD         243900                 US           100   \n",
       "..       ...             ...            ...                ...           ...   \n",
       "192    18000             USD          18000                 MD             0   \n",
       "230  1200000             INR          16228                 IN           100   \n",
       "247   108000             TRY          12103                 TR             0   \n",
       "213   435000             INR           5882                 IN             0   \n",
       "185     4000             USD           4000                 IR           100   \n",
       "\n",
       "    company_location company_size   job_category  \n",
       "252               US            L  Data Engineer  \n",
       "482               US            M  Data Engineer  \n",
       "93                US            L  Data Engineer  \n",
       "231               US            S  Data Engineer  \n",
       "337               US            M  Data Engineer  \n",
       "..               ...          ...            ...  \n",
       "192               MD            S  Data Engineer  \n",
       "230               IN            L  Data Engineer  \n",
       "247               TR            M  Data Engineer  \n",
       "213               CH            L  Data Engineer  \n",
       "185               IR            M  Data Engineer  \n",
       "\n",
       "[161 rows x 12 columns]"
      ]
     },
     "execution_count": 25,
     "metadata": {},
     "output_type": "execute_result"
    }
   ],
   "source": [
    "subset_estremi_de = stipendi_df[stipendi_df['job_category'] == 'Data Engineer']\n",
    "\n",
    "subset_estremi_de = subset_estremi_de.sort_values('salary_in_usd', ascending=False)\n",
    "\n",
    "subset_estremi_de"
   ]
  },
  {
   "cell_type": "code",
   "execution_count": 26,
   "metadata": {},
   "outputs": [
    {
     "data": {
      "image/png": "[encoded data removed]",
      "text/plain": [
       "<Figure size 1000x600 with 1 Axes>"
      ]
     },
     "metadata": {},
     "output_type": "display_data"
    }
   ],
   "source": [
    "plt.figure(figsize=(10, 6))\n",
    "sns.histplot(data= subset_estremi_de, x = 'salary_in_usd', kde= True, hue = 'experience_level', hue_order=['EN', 'MI', 'SE', 'EX'], legend= True)\n",
    "\n",
    "plt.title('Distribuzione dei Salari per Data Engineer')\n",
    "plt.xlabel('Salari in dollari')\n",
    "plt.ylabel('Frequenza')\n",
    "plt.legend(labels= ['EX', 'SE', 'MI', 'EN'], reverse= True, title = \"Esperienza\")\n",
    "plt.savefig('')\n",
    "plt.show()"
   ]
  },
  {
   "cell_type": "code",
   "execution_count": 27,
   "metadata": {},
   "outputs": [
    {
     "data": {
      "image/png": "[encoded data removed]",
      "text/plain": [
       "<Figure size 1051.07x500 with 1 Axes>"
      ]
     },
     "metadata": {},
     "output_type": "display_data"
    }
   ],
   "source": [
    "g = sns.catplot(data= stipendi_df, \n",
    "            x= \"job_category\",\n",
    "            y= 'salary_in_usd',\n",
    "            kind= \"bar\", \n",
    "            hue= \"experience_level\",\n",
    "            hue_order=[\"EN\", \"MI\", \"SE\", \"EX\"],\n",
    "            aspect= 16/9)\n",
    "g._legend.set_title(\"Esperienza\")\n",
    "\n",
    "plt.title(\"Stipendi in base al tipo di lavoro e al grado\")\n",
    "plt.xlabel('Lavori')\n",
    "plt.ylabel('Stipendi annuali')\n",
    "plt.savefig('stipendi_tipo_lavoro_grado.png');"
   ]
  },
  {
   "cell_type": "code",
   "execution_count": 28,
   "metadata": {},
   "outputs": [
    {
     "data": {
      "text/plain": [
       "Text(0, 0.5, 'Frequenza')"
      ]
     },
     "execution_count": 28,
     "metadata": {},
     "output_type": "execute_result"
    },
    {
     "data": {
      "image/png": "[encoded data removed]",
      "text/plain": [
       "<Figure size 640x480 with 1 Axes>"
      ]
     },
     "metadata": {},
     "output_type": "display_data"
    }
   ],
   "source": [
    "subset_estremi_ds = stipendi_df[stipendi_df['job_category'] == 'Data Scientist']\n",
    "\n",
    "subset_estremi_ds = subset_estremi_ds.sort_values('salary_in_usd', ascending=False)\n",
    "\n",
    "sns.histplot(data= subset_estremi_ds, x = 'salary_in_usd', kde= True, hue = 'experience_level', hue_order=['EN', 'MI', 'SE', 'EX'])\n",
    "\n",
    "# plt.figure(figsize=(10, 6))\n",
    "# plt.hist(subset_estremi_ds['salary_in_usd'], bins=20)\n",
    "\n",
    "plt.title('Distribuzione dei Salari per Data Scientist')\n",
    "plt.xlabel('Salari in dollari')\n",
    "plt.ylabel('Frequenza')\n",
    "\n",
    "# plt.show()"
   ]
  },
  {
   "cell_type": "code",
   "execution_count": 29,
   "metadata": {},
   "outputs": [
    {
     "data": {
      "image/png": "[encoded data removed]",
      "text/plain": [
       "<Figure size 1000x600 with 1 Axes>"
      ]
     },
     "metadata": {},
     "output_type": "display_data"
    }
   ],
   "source": [
    "subset_estremi_da = stipendi_df_raw[stipendi_df_raw['job_category'] == 'Data Analyst']\n",
    "\n",
    "subset_estremi_da = subset_estremi_da.sort_values('salary_in_usd', ascending=False)\n",
    "\n",
    "plt.figure(figsize=(10, 6))\n",
    "sns.histplot(data= subset_estremi_da, x = 'salary_in_usd', kde= True, hue = 'experience_level', hue_order=['EN', 'MI', 'SE', 'EX'])\n",
    "\n",
    "plt.title('Distribuzione dei Salari per Data Analyst')\n",
    "plt.xlabel('Salari in dollari')\n",
    "plt.ylabel('Frequenza')\n",
    "\n",
    "plt.show()"
   ]
  },
  {
   "cell_type": "code",
   "execution_count": 30,
   "metadata": {},
   "outputs": [
    {
     "data": {
      "image/png": "[encoded data removed]",
      "text/plain": [
       "<Figure size 1000x600 with 1 Axes>"
      ]
     },
     "metadata": {},
     "output_type": "display_data"
    }
   ],
   "source": [
    "subset_estremi_aie = stipendi_df[stipendi_df['job_category'] == 'AI Professionals']\n",
    "\n",
    "subset_estremi_aie = subset_estremi_aie.sort_values('salary_in_usd', ascending=False)\n",
    "\n",
    "\n",
    "plt.figure(figsize=(10, 6))\n",
    "sns.histplot(data= subset_estremi_aie, x = 'salary_in_usd', kde= True, hue = 'experience_level', hue_order=['EN', 'MI', 'SE', 'EX'])\n",
    "\n",
    "plt.title('Distribuzione dei Salari per AI Engineer')\n",
    "plt.xlabel('Salari in dollari')\n",
    "plt.ylabel('Frequenza')\n",
    "\n",
    "plt.show()"
   ]
  },
  {
   "cell_type": "code",
   "execution_count": 31,
   "metadata": {},
   "outputs": [
    {
     "data": {
      "text/plain": [
       "job_category      employment_type\n",
       "AI Professionals  FT                  69\n",
       "Data Analyst      FT                 140\n",
       "Data Engineer     FT                 161\n",
       "Data Scientist    FT                 218\n",
       "Name: count, dtype: int64"
      ]
     },
     "execution_count": 31,
     "metadata": {},
     "output_type": "execute_result"
    }
   ],
   "source": [
    "subset_employment_type = stipendi_df.groupby('job_category')['employment_type'].value_counts()\n",
    "subset_employment_type"
   ]
  },
  {
   "cell_type": "code",
   "execution_count": 32,
   "metadata": {},
   "outputs": [
    {
     "data": {
      "application/vnd.plotly.v1+json": {
       "config": {
        "plotlyServerURL": "https://plot.ly"
       },
       "data": [
        {
         "coloraxis": "coloraxis",
         "geo": "geo",
         "hovertemplate": "<b>%{hovertext}</b><br><br>company_location=%{location}<br>salary_in_usd=%{z}<extra></extra>",
         "hovertext": [
          "ARE",
          "ASM",
          "AUT",
          "AUS",
          "BEL",
          "BRA",
          "CAN",
          "CHE",
          "CHL",
          "CHN",
          "COL",
          "CZE",
          "DEU",
          "DNK",
          "EST",
          "ESP",
          "FRA",
          "GBR",
          "GRC",
          "HND",
          "HRV",
          "HUN",
          "IRL",
          "ISR",
          "IND",
          "IRQ",
          "IRN",
          "ITA",
          "JPN",
          "KEN",
          "LUX",
          "MDA",
          "MLT",
          "MEX",
          "MYS",
          "NGA",
          "NLD",
          "NZL",
          "PAK",
          "POL",
          "PRT",
          "ROU",
          "RUS",
          "SGP",
          "SVN",
          "TUR",
          "UKR",
          "USA",
          "VNM"
         ],
         "locationmode": "ISO-3",
         "locations": [
          "ARE",
          "ASM",
          "AUT",
          "AUS",
          "BEL",
          "BRA",
          "CAN",
          "CHE",
          "CHL",
          "CHN",
          "COL",
          "CZE",
          "DEU",
          "DNK",
          "EST",
          "ESP",
          "FRA",
          "GBR",
          "GRC",
          "HND",
          "HRV",
          "HUN",
          "IRL",
          "ISR",
          "IND",
          "IRQ",
          "IRN",
          "ITA",
          "JPN",
          "KEN",
          "LUX",
          "MDA",
          "MLT",
          "MEX",
          "MYS",
          "NGA",
          "NLD",
          "NZL",
          "PAK",
          "POL",
          "PRT",
          "ROU",
          "RUS",
          "SGP",
          "SVN",
          "TUR",
          "UKR",
          "USA",
          "VNM"
         ],
         "name": "",
         "type": "choropleth",
         "z": [
          100000,
          18053,
          72920.75,
          108042.66666666667,
          85699,
          18602.666666666668,
          99823.73333333334,
          64114,
          40038,
          71665.5,
          21844,
          69999,
          85458.42307692308,
          67275,
          32974,
          56345.230769230766,
          63970.666666666664,
          81583.0425531915,
          52293.09090909091,
          20000,
          45618,
          35735,
          71444,
          119059,
          29589.260869565216,
          100000,
          4000,
          51064,
          114127.33333333333,
          9272,
          43942.666666666664,
          18000,
          28369,
          32123.333333333332,
          40000,
          30000,
          50014,
          125000,
          14000,
          66082.5,
          47793.75,
          60000,
          157500,
          89294,
          63831,
          20096.666666666668,
          13400,
          144637.62427745663,
          4000
         ]
        }
       ],
       "layout": {
        "coloraxis": {
         "colorbar": {
          "title": {
           "text": "Salario Medio"
          }
         },
         "colorscale": [
          [
           0,
           "#0d0887"
          ],
          [
           0.1111111111111111,
           "#46039f"
          ],
          [
           0.2222222222222222,
           "#7201a8"
          ],
          [
           0.3333333333333333,
           "#9c179e"
          ],
          [
           0.4444444444444444,
           "#bd3786"
          ],
          [
           0.5555555555555556,
           "#d8576b"
          ],
          [
           0.6666666666666666,
           "#ed7953"
          ],
          [
           0.7777777777777778,
           "#fb9f3a"
          ],
          [
           0.8888888888888888,
           "#fdca26"
          ],
          [
           1,
           "#f0f921"
          ]
         ]
        },
        "geo": {
         "center": {},
         "domain": {
          "x": [
           0,
           1
          ],
          "y": [
           0,
           1
          ]
         },
         "projection": {
          "type": "equirectangular"
         },
         "showframe": false
        },
        "legend": {
         "tracegroupgap": 0
        },
        "margin": {
         "t": 60
        },
        "template": {
         "data": {
          "bar": [
           {
            "error_x": {
             "color": "#2a3f5f"
            },
            "error_y": {
             "color": "#2a3f5f"
            },
            "marker": {
             "line": {
              "color": "#E5ECF6",
              "width": 0.5
             },
             "pattern": {
              "fillmode": "overlay",
              "size": 10,
              "solidity": 0.2
             }
            },
            "type": "bar"
           }
          ],
          "barpolar": [
           {
            "marker": {
             "line": {
              "color": "#E5ECF6",
              "width": 0.5
             },
             "pattern": {
              "fillmode": "overlay",
              "size": 10,
              "solidity": 0.2
             }
            },
            "type": "barpolar"
           }
          ],
          "carpet": [
           {
            "aaxis": {
             "endlinecolor": "#2a3f5f",
             "gridcolor": "white",
             "linecolor": "white",
             "minorgridcolor": "white",
             "startlinecolor": "#2a3f5f"
            },
            "baxis": {
             "endlinecolor": "#2a3f5f",
             "gridcolor": "white",
             "linecolor": "white",
             "minorgridcolor": "white",
             "startlinecolor": "#2a3f5f"
            },
            "type": "carpet"
           }
          ],
          "choropleth": [
           {
            "colorbar": {
             "outlinewidth": 0,
             "ticks": ""
            },
            "type": "choropleth"
           }
          ],
          "contour": [
           {
            "colorbar": {
             "outlinewidth": 0,
             "ticks": ""
            },
            "colorscale": [
             [
              0,
              "#0d0887"
             ],
             [
              0.1111111111111111,
              "#46039f"
             ],
             [
              0.2222222222222222,
              "#7201a8"
             ],
             [
              0.3333333333333333,
              "#9c179e"
             ],
             [
              0.4444444444444444,
              "#bd3786"
             ],
             [
              0.5555555555555556,
              "#d8576b"
             ],
             [
              0.6666666666666666,
              "#ed7953"
             ],
             [
              0.7777777777777778,
              "#fb9f3a"
             ],
             [
              0.8888888888888888,
              "#fdca26"
             ],
             [
              1,
              "#f0f921"
             ]
            ],
            "type": "contour"
           }
          ],
          "contourcarpet": [
           {
            "colorbar": {
             "outlinewidth": 0,
             "ticks": ""
            },
            "type": "contourcarpet"
           }
          ],
          "heatmap": [
           {
            "colorbar": {
             "outlinewidth": 0,
             "ticks": ""
            },
            "colorscale": [
             [
              0,
              "#0d0887"
             ],
             [
              0.1111111111111111,
              "#46039f"
             ],
             [
              0.2222222222222222,
              "#7201a8"
             ],
             [
              0.3333333333333333,
              "#9c179e"
             ],
             [
              0.4444444444444444,
              "#bd3786"
             ],
             [
              0.5555555555555556,
              "#d8576b"
             ],
             [
              0.6666666666666666,
              "#ed7953"
             ],
             [
              0.7777777777777778,
              "#fb9f3a"
             ],
             [
              0.8888888888888888,
              "#fdca26"
             ],
             [
              1,
              "#f0f921"
             ]
            ],
            "type": "heatmap"
           }
          ],
          "heatmapgl": [
           {
            "colorbar": {
             "outlinewidth": 0,
             "ticks": ""
            },
            "colorscale": [
             [
              0,
              "#0d0887"
             ],
             [
              0.1111111111111111,
              "#46039f"
             ],
             [
              0.2222222222222222,
              "#7201a8"
             ],
             [
              0.3333333333333333,
              "#9c179e"
             ],
             [
              0.4444444444444444,
              "#bd3786"
             ],
             [
              0.5555555555555556,
              "#d8576b"
             ],
             [
              0.6666666666666666,
              "#ed7953"
             ],
             [
              0.7777777777777778,
              "#fb9f3a"
             ],
             [
              0.8888888888888888,
              "#fdca26"
             ],
             [
              1,
              "#f0f921"
             ]
            ],
            "type": "heatmapgl"
           }
          ],
          "histogram": [
           {
            "marker": {
             "pattern": {
              "fillmode": "overlay",
              "size": 10,
              "solidity": 0.2
             }
            },
            "type": "histogram"
           }
          ],
          "histogram2d": [
           {
            "colorbar": {
             "outlinewidth": 0,
             "ticks": ""
            },
            "colorscale": [
             [
              0,
              "#0d0887"
             ],
             [
              0.1111111111111111,
              "#46039f"
             ],
             [
              0.2222222222222222,
              "#7201a8"
             ],
             [
              0.3333333333333333,
              "#9c179e"
             ],
             [
              0.4444444444444444,
              "#bd3786"
             ],
             [
              0.5555555555555556,
              "#d8576b"
             ],
             [
              0.6666666666666666,
              "#ed7953"
             ],
             [
              0.7777777777777778,
              "#fb9f3a"
             ],
             [
              0.8888888888888888,
              "#fdca26"
             ],
             [
              1,
              "#f0f921"
             ]
            ],
            "type": "histogram2d"
           }
          ],
          "histogram2dcontour": [
           {
            "colorbar": {
             "outlinewidth": 0,
             "ticks": ""
            },
            "colorscale": [
             [
              0,
              "#0d0887"
             ],
             [
              0.1111111111111111,
              "#46039f"
             ],
             [
              0.2222222222222222,
              "#7201a8"
             ],
             [
              0.3333333333333333,
              "#9c179e"
             ],
             [
              0.4444444444444444,
              "#bd3786"
             ],
             [
              0.5555555555555556,
              "#d8576b"
             ],
             [
              0.6666666666666666,
              "#ed7953"
             ],
             [
              0.7777777777777778,
              "#fb9f3a"
             ],
             [
              0.8888888888888888,
              "#fdca26"
             ],
             [
              1,
              "#f0f921"
             ]
            ],
            "type": "histogram2dcontour"
           }
          ],
          "mesh3d": [
           {
            "colorbar": {
             "outlinewidth": 0,
             "ticks": ""
            },
            "type": "mesh3d"
           }
          ],
          "parcoords": [
           {
            "line": {
             "colorbar": {
              "outlinewidth": 0,
              "ticks": ""
             }
            },
            "type": "parcoords"
           }
          ],
          "pie": [
           {
            "automargin": true,
            "type": "pie"
           }
          ],
          "scatter": [
           {
            "fillpattern": {
             "fillmode": "overlay",
             "size": 10,
             "solidity": 0.2
            },
            "type": "scatter"
           }
          ],
          "scatter3d": [
           {
            "line": {
             "colorbar": {
              "outlinewidth": 0,
              "ticks": ""
             }
            },
            "marker": {
             "colorbar": {
              "outlinewidth": 0,
              "ticks": ""
             }
            },
            "type": "scatter3d"
           }
          ],
          "scattercarpet": [
           {
            "marker": {
             "colorbar": {
              "outlinewidth": 0,
              "ticks": ""
             }
            },
            "type": "scattercarpet"
           }
          ],
          "scattergeo": [
           {
            "marker": {
             "colorbar": {
              "outlinewidth": 0,
              "ticks": ""
             }
            },
            "type": "scattergeo"
           }
          ],
          "scattergl": [
           {
            "marker": {
             "colorbar": {
              "outlinewidth": 0,
              "ticks": ""
             }
            },
            "type": "scattergl"
           }
          ],
          "scattermapbox": [
           {
            "marker": {
             "colorbar": {
              "outlinewidth": 0,
              "ticks": ""
             }
            },
            "type": "scattermapbox"
           }
          ],
          "scatterpolar": [
           {
            "marker": {
             "colorbar": {
              "outlinewidth": 0,
              "ticks": ""
             }
            },
            "type": "scatterpolar"
           }
          ],
          "scatterpolargl": [
           {
            "marker": {
             "colorbar": {
              "outlinewidth": 0,
              "ticks": ""
             }
            },
            "type": "scatterpolargl"
           }
          ],
          "scatterternary": [
           {
            "marker": {
             "colorbar": {
              "outlinewidth": 0,
              "ticks": ""
             }
            },
            "type": "scatterternary"
           }
          ],
          "surface": [
           {
            "colorbar": {
             "outlinewidth": 0,
             "ticks": ""
            },
            "colorscale": [
             [
              0,
              "#0d0887"
             ],
             [
              0.1111111111111111,
              "#46039f"
             ],
             [
              0.2222222222222222,
              "#7201a8"
             ],
             [
              0.3333333333333333,
              "#9c179e"
             ],
             [
              0.4444444444444444,
              "#bd3786"
             ],
             [
              0.5555555555555556,
              "#d8576b"
             ],
             [
              0.6666666666666666,
              "#ed7953"
             ],
             [
              0.7777777777777778,
              "#fb9f3a"
             ],
             [
              0.8888888888888888,
              "#fdca26"
             ],
             [
              1,
              "#f0f921"
             ]
            ],
            "type": "surface"
           }
          ],
          "table": [
           {
            "cells": {
             "fill": {
              "color": "#EBF0F8"
             },
             "line": {
              "color": "white"
             }
            },
            "header": {
             "fill": {
              "color": "#C8D4E3"
             },
             "line": {
              "color": "white"
             }
            },
            "type": "table"
           }
          ]
         },
         "layout": {
          "annotationdefaults": {
           "arrowcolor": "#2a3f5f",
           "arrowhead": 0,
           "arrowwidth": 1
          },
          "autotypenumbers": "strict",
          "coloraxis": {
           "colorbar": {
            "outlinewidth": 0,
            "ticks": ""
           }
          },
          "colorscale": {
           "diverging": [
            [
             0,
             "#8e0152"
            ],
            [
             0.1,
             "#c51b7d"
            ],
            [
             0.2,
             "#de77ae"
            ],
            [
             0.3,
             "#f1b6da"
            ],
            [
             0.4,
             "#fde0ef"
            ],
            [
             0.5,
             "#f7f7f7"
            ],
            [
             0.6,
             "#e6f5d0"
            ],
            [
             0.7,
             "#b8e186"
            ],
            [
             0.8,
             "#7fbc41"
            ],
            [
             0.9,
             "#4d9221"
            ],
            [
             1,
             "#276419"
            ]
           ],
           "sequential": [
            [
             0,
             "#0d0887"
            ],
            [
             0.1111111111111111,
             "#46039f"
            ],
            [
             0.2222222222222222,
             "#7201a8"
            ],
            [
             0.3333333333333333,
             "#9c179e"
            ],
            [
             0.4444444444444444,
             "#bd3786"
            ],
            [
             0.5555555555555556,
             "#d8576b"
            ],
            [
             0.6666666666666666,
             "#ed7953"
            ],
            [
             0.7777777777777778,
             "#fb9f3a"
            ],
            [
             0.8888888888888888,
             "#fdca26"
            ],
            [
             1,
             "#f0f921"
            ]
           ],
           "sequentialminus": [
            [
             0,
             "#0d0887"
            ],
            [
             0.1111111111111111,
             "#46039f"
            ],
            [
             0.2222222222222222,
             "#7201a8"
            ],
            [
             0.3333333333333333,
             "#9c179e"
            ],
            [
             0.4444444444444444,
             "#bd3786"
            ],
            [
             0.5555555555555556,
             "#d8576b"
            ],
            [
             0.6666666666666666,
             "#ed7953"
            ],
            [
             0.7777777777777778,
             "#fb9f3a"
            ],
            [
             0.8888888888888888,
             "#fdca26"
            ],
            [
             1,
             "#f0f921"
            ]
           ]
          },
          "colorway": [
           "#636efa",
           "#EF553B",
           "#00cc96",
           "#ab63fa",
           "#FFA15A",
           "#19d3f3",
           "#FF6692",
           "#B6E880",
           "#FF97FF",
           "#FECB52"
          ],
          "font": {
           "color": "#2a3f5f"
          },
          "geo": {
           "bgcolor": "white",
           "lakecolor": "white",
           "landcolor": "#E5ECF6",
           "showlakes": true,
           "showland": true,
           "subunitcolor": "white"
          },
          "hoverlabel": {
           "align": "left"
          },
          "hovermode": "closest",
          "mapbox": {
           "style": "light"
          },
          "paper_bgcolor": "white",
          "plot_bgcolor": "#E5ECF6",
          "polar": {
           "angularaxis": {
            "gridcolor": "white",
            "linecolor": "white",
            "ticks": ""
           },
           "bgcolor": "#E5ECF6",
           "radialaxis": {
            "gridcolor": "white",
            "linecolor": "white",
            "ticks": ""
           }
          },
          "scene": {
           "xaxis": {
            "backgroundcolor": "#E5ECF6",
            "gridcolor": "white",
            "gridwidth": 2,
            "linecolor": "white",
            "showbackground": true,
            "ticks": "",
            "zerolinecolor": "white"
           },
           "yaxis": {
            "backgroundcolor": "#E5ECF6",
            "gridcolor": "white",
            "gridwidth": 2,
            "linecolor": "white",
            "showbackground": true,
            "ticks": "",
            "zerolinecolor": "white"
           },
           "zaxis": {
            "backgroundcolor": "#E5ECF6",
            "gridcolor": "white",
            "gridwidth": 2,
            "linecolor": "white",
            "showbackground": true,
            "ticks": "",
            "zerolinecolor": "white"
           }
          },
          "shapedefaults": {
           "line": {
            "color": "#2a3f5f"
           }
          },
          "ternary": {
           "aaxis": {
            "gridcolor": "white",
            "linecolor": "white",
            "ticks": ""
           },
           "baxis": {
            "gridcolor": "white",
            "linecolor": "white",
            "ticks": ""
           },
           "bgcolor": "#E5ECF6",
           "caxis": {
            "gridcolor": "white",
            "linecolor": "white",
            "ticks": ""
           }
          },
          "title": {
           "x": 0.05
          },
          "xaxis": {
           "automargin": true,
           "gridcolor": "white",
           "linecolor": "white",
           "ticks": "",
           "title": {
            "standoff": 15
           },
           "zerolinecolor": "white",
           "zerolinewidth": 2
          },
          "yaxis": {
           "automargin": true,
           "gridcolor": "white",
           "linecolor": "white",
           "ticks": "",
           "title": {
            "standoff": 15
           },
           "zerolinecolor": "white",
           "zerolinewidth": 2
          }
         }
        },
        "title": {
         "text": "Heatmap mondiale salario medio"
        }
       }
      }
     },
     "metadata": {},
     "output_type": "display_data"
    }
   ],
   "source": [
    "# Creo il dizionario per la conversione\n",
    "\n",
    "alpha2_to_alpha3 = {\"AF\": \"AFG\",\n",
    "\"AL\": \"ALB\",\n",
    "\"DZ\": \"DZA\",\n",
    "\"AS\": \"ASM\",\n",
    "\"AD\": \"AND\",\n",
    "\"AO\": \"AGO\",\n",
    "\"AI\": \"AIA\",\n",
    "\"AQ\": \"ATA\",\n",
    "\"AG\": \"ATG\",\n",
    "\"AR\": \"ARG\",\n",
    "\"AM\": \"ARM\",\n",
    "\"AW\": \"ABW\",\n",
    "\"AU\": \"AUS\",\n",
    "\"AT\": \"AUT\",\n",
    "\"AZ\": \"AZE\",\n",
    "\"BS\": \"BHS\",\n",
    "\"BH\": \"BHR\",\n",
    "\"BD\": \"BGD\",\n",
    "\"BB\": \"BRB\",\n",
    "\"BY\": \"BLR\",\n",
    "\"BE\": \"BEL\",\n",
    "\"BZ\": \"BLZ\",\n",
    "\"BJ\": \"BEN\",\n",
    "\"BM\": \"BMU\",\n",
    "\"BT\": \"BTN\",\n",
    "\"BO\": \"BOL\",\n",
    "\"BQ\": \"BES\",\n",
    "\"BA\": \"BIH\",\n",
    "\"BW\": \"BWA\",\n",
    "\"BV\": \"BVT\",\n",
    "\"BR\": \"BRA\",\n",
    "\"IO\": \"IOT\",\n",
    "\"BN\": \"BRN\",\n",
    "\"BG\": \"BGR\",\n",
    "\"BF\": \"BFA\",\n",
    "\"BI\": \"BDI\",\n",
    "\"CV\": \"CPV\",\n",
    "\"KH\": \"KHM\",\n",
    "\"CM\": \"CMR\",\n",
    "\"CA\": \"CAN\",\n",
    "\"KY\": \"CYM\",\n",
    "\"CF\": \"CAF\",\n",
    "\"TD\": \"TCD\",\n",
    "\"CL\": \"CHL\",\n",
    "\"CN\": \"CHN\",\n",
    "\"CX\": \"CXR\",\n",
    "\"CC\": \"CCK\",\n",
    "\"CO\": \"COL\",\n",
    "\"KM\": \"COM\",\n",
    "\"CD\": \"COD\",\n",
    "\"CG\": \"COG\",\n",
    "\"CK\": \"COK\",\n",
    "\"CR\": \"CRI\",\n",
    "\"HR\": \"HRV\",\n",
    "\"CU\": \"CUB\",\n",
    "\"CW\": \"CUW\",\n",
    "\"CY\": \"CYP\",\n",
    "\"CZ\": \"CZE\",\n",
    "\"CI\": \"CIV\",\n",
    "\"DK\": \"DNK\",\n",
    "\"DJ\": \"DJI\",\n",
    "\"DM\": \"DMA\",\n",
    "\"DO\": \"DOM\",\n",
    "\"EC\": \"ECU\",\n",
    "\"EG\": \"EGY\",\n",
    "\"SV\": \"SLV\",\n",
    "\"GQ\": \"GNQ\",\n",
    "\"ER\": \"ERI\",\n",
    "\"EE\": \"EST\",\n",
    "\"SZ\": \"SWZ\",\n",
    "\"ET\": \"ETH\",\n",
    "\"FK\": \"FLK\",\n",
    "\"FO\": \"FRO\",\n",
    "\"FJ\": \"FJI\",\n",
    "\"FI\": \"FIN\",\n",
    "\"FR\": \"FRA\",\n",
    "\"GF\": \"GUF\",\n",
    "\"PF\": \"PYF\",\n",
    "\"TF\": \"ATF\",\n",
    "\"GA\": \"GAB\",\n",
    "\"GM\": \"GMB\",\n",
    "\"GE\": \"GEO\",\n",
    "\"DE\": \"DEU\",\n",
    "\"GH\": \"GHA\",\n",
    "\"GI\": \"GIB\",\n",
    "\"GR\": \"GRC\",\n",
    "\"GL\": \"GRL\",\n",
    "\"GD\": \"GRD\",\n",
    "\"GP\": \"GLP\",\n",
    "\"GU\": \"GUM\",\n",
    "\"GT\": \"GTM\",\n",
    "\"GG\": \"GGY\",\n",
    "\"GN\": \"GIN\",\n",
    "\"GW\": \"GNB\",\n",
    "\"GY\": \"GUY\",\n",
    "\"HT\": \"HTI\",\n",
    "\"HM\": \"HMD\",\n",
    "\"VA\": \"VAT\",\n",
    "\"HN\": \"HND\",\n",
    "\"HK\": \"HKG\",\n",
    "\"HU\": \"HUN\",\n",
    "\"IS\": \"ISL\",\n",
    "\"IN\": \"IND\",\n",
    "\"ID\": \"IDN\",\n",
    "\"IR\": \"IRN\",\n",
    "\"IQ\": \"IRQ\",\n",
    "\"IE\": \"IRL\",\n",
    "\"IM\": \"IMN\",\n",
    "\"IL\": \"ISR\",\n",
    "\"IT\": \"ITA\",\n",
    "\"JM\": \"JAM\",\n",
    "\"JP\": \"JPN\",\n",
    "\"JE\": \"JEY\",\n",
    "\"JO\": \"JOR\",\n",
    "\"KZ\": \"KAZ\",\n",
    "\"KE\": \"KEN\",\n",
    "\"KI\": \"KIR\",\n",
    "\"KP\": \"PRK\",\n",
    "\"KR\": \"KOR\",\n",
    "\"KW\": \"KWT\",\n",
    "\"KG\": \"KGZ\",\n",
    "\"LA\": \"LAO\",\n",
    "\"LV\": \"LVA\",\n",
    "\"LB\": \"LBN\",\n",
    "\"LS\": \"LSO\",\n",
    "\"LR\": \"LBR\",\n",
    "\"LY\": \"LBY\",\n",
    "\"LI\": \"LIE\",\n",
    "\"LT\": \"LTU\",\n",
    "\"LU\": \"LUX\",\n",
    "\"MO\": \"MAC\",\n",
    "\"MG\": \"MDG\",\n",
    "\"MW\": \"MWI\",\n",
    "\"MY\": \"MYS\",\n",
    "\"MV\": \"MDV\",\n",
    "\"ML\": \"MLI\",\n",
    "\"MT\": \"MLT\",\n",
    "\"MH\": \"MHL\",\n",
    "\"MQ\": \"MTQ\",\n",
    "\"MR\": \"MRT\",\n",
    "\"MU\": \"MUS\",\n",
    "\"YT\": \"MYT\",\n",
    "\"MX\": \"MEX\",\n",
    "\"FM\": \"FSM\",\n",
    "\"MD\": \"MDA\",\n",
    "\"MC\": \"MCO\",\n",
    "\"MN\": \"MNG\",\n",
    "\"ME\": \"MNE\",\n",
    "\"MS\": \"MSR\",\n",
    "\"MA\": \"MAR\",\n",
    "\"MZ\": \"MOZ\",\n",
    "\"MM\": \"MMR\",\n",
    "\"NA\": \"NAM\",\n",
    "\"NR\": \"NRU\",\n",
    "\"NP\": \"NPL\",\n",
    "\"NL\": \"NLD\",\n",
    "\"NC\": \"NCL\",\n",
    "\"NZ\": \"NZL\",\n",
    "\"NI\": \"NIC\",\n",
    "\"NE\": \"NER\",\n",
    "\"NG\": \"NGA\",\n",
    "\"NU\": \"NIU\",\n",
    "\"NF\": \"NFK\",\n",
    "\"MP\": \"MNP\",\n",
    "\"NO\": \"NOR\",\n",
    "\"OM\": \"OMN\",\n",
    "\"PK\": \"PAK\",\n",
    "\"PW\": \"PLW\",\n",
    "\"PS\": \"PSE\",\n",
    "\"PA\": \"PAN\",\n",
    "\"PG\": \"PNG\",\n",
    "\"PY\": \"PRY\",\n",
    "\"PE\": \"PER\",\n",
    "\"PH\": \"PHL\",\n",
    "\"PN\": \"PCN\",\n",
    "\"PL\": \"POL\",\n",
    "\"PT\": \"PRT\",\n",
    "\"PR\": \"PRI\",\n",
    "\"QA\": \"QAT\",\n",
    "\"MK\": \"MKD\",\n",
    "\"RO\": \"ROU\",\n",
    "\"RU\": \"RUS\",\n",
    "\"RW\": \"RWA\",\n",
    "\"RE\": \"REU\",\n",
    "\"BL\": \"BLM\",\n",
    "\"SH\": \"SHN\",\n",
    "\"KN\": \"KNA\",\n",
    "\"LC\": \"LCA\",\n",
    "\"MF\": \"MAF\",\n",
    "\"PM\": \"SPM\",\n",
    "\"VC\": \"VCT\",\n",
    "\"WS\": \"WSM\",\n",
    "\"SM\": \"SMR\",\n",
    "\"ST\": \"STP\",\n",
    "\"SA\": \"SAU\",\n",
    "\"SN\": \"SEN\",\n",
    "\"RS\": \"SRB\",\n",
    "\"SC\": \"SYC\",\n",
    "\"SL\": \"SLE\",\n",
    "\"SG\": \"SGP\",\n",
    "\"SX\": \"SXM\",\n",
    "\"SK\": \"SVK\",\n",
    "\"SI\": \"SVN\",\n",
    "\"SB\": \"SLB\",\n",
    "\"SO\": \"SOM\",\n",
    "\"ZA\": \"ZAF\",\n",
    "\"GS\": \"SGS\",\n",
    "\"SS\": \"SSD\",\n",
    "\"ES\": \"ESP\",\n",
    "\"LK\": \"LKA\",\n",
    "\"SD\": \"SDN\",\n",
    "\"SR\": \"SUR\",\n",
    "\"SJ\": \"SJM\",\n",
    "\"SE\": \"SWE\",\n",
    "\"CH\": \"CHE\",\n",
    "\"SY\": \"SYR\",\n",
    "\"TW\": \"TWN\",\n",
    "\"TJ\": \"TJK\",\n",
    "\"TZ\": \"TZA\",\n",
    "\"TH\": \"THA\",\n",
    "\"TL\": \"TLS\",\n",
    "\"TG\": \"TGO\",\n",
    "\"TK\": \"TKL\",\n",
    "\"TO\": \"TON\",\n",
    "\"TT\": \"TTO\",\n",
    "\"TN\": \"TUN\",\n",
    "\"TR\": \"TUR\",\n",
    "\"TM\": \"TKM\",\n",
    "\"TC\": \"TCA\",\n",
    "\"TV\": \"TUV\",\n",
    "\"UG\": \"UGA\",\n",
    "\"UA\": \"UKR\",\n",
    "\"AE\": \"ARE\",\n",
    "\"GB\": \"GBR\",\n",
    "\"UM\": \"UMI\",\n",
    "\"US\": \"USA\",\n",
    "\"UY\": \"URY\",\n",
    "\"UZ\": \"UZB\",\n",
    "\"VU\": \"VUT\",\n",
    "\"VE\": \"VEN\",\n",
    "\"VN\": \"VNM\",\n",
    "\"VG\": \"VGB\",\n",
    "\"VI\": \"VIR\",\n",
    "\"WF\": \"WLF\",\n",
    "\"EH\": \"ESH\",\n",
    "\"YE\": \"YEM\",\n",
    "\"ZM\": \"ZMB\",\n",
    "\"ZW\": \"ZWE\",\n",
    "\"AX\": \"ALA\"\n",
    "}\n",
    "\n",
    "\n",
    "\n",
    "# Creo una serie che contiene i paesi con la rispettiva media degli stipendi\n",
    "serie_stipendi_paese = stipendi_df.groupby([\"company_location\"], as_index = False)[\"salary_in_usd\"].mean()\n",
    "\n",
    "serie_stipendi_paese[\"company_location\"] = serie_stipendi_paese[\"company_location\"].map(alpha2_to_alpha3)\n",
    "\n",
    "\n",
    "\n",
    "\n",
    "# Creo la mappa\n",
    "\n",
    "\n",
    "# Create the choropleth map\n",
    "fig = px.choropleth(\n",
    "    serie_stipendi_paese,\n",
    "    locations='company_location',\n",
    "    locationmode='ISO-3',\n",
    "    color='salary_in_usd',\n",
    "    hover_name='company_location',\n",
    "    color_continuous_scale=px.colors.sequential.Plasma\n",
    ")\n",
    "# Update the layout for better appearance\n",
    "fig.update_layout(\n",
    "    title='Heatmap mondiale salario medio',\n",
    "    geo=dict(\n",
    "        showframe=False,\n",
    "        #showcoastlines=False,\n",
    "        projection_type='equirectangular'\n",
    "    ),\n",
    "    coloraxis_colorbar=dict(\n",
    "        title=\"Salario Medio\"\n",
    "    )\n",
    ")\n",
    "# fig.update_layout(margin=dict(l=60, r=60, t=50, b=50))\n",
    "# Show the figure\n",
    "fig.show()\n",
    "\n"
   ]
  },
  {
   "cell_type": "code",
   "execution_count": 33,
   "metadata": {},
   "outputs": [
    {
     "ename": "ValueError",
     "evalue": "Could not interpret value `salary_range` for `hue`. An entry with this name does not appear in `data`.",
     "output_type": "error",
     "traceback": [
      "\u001b[1;31m---------------------------------------------------------------------------\u001b[0m",
      "\u001b[1;31mValueError\u001b[0m                                Traceback (most recent call last)",
      "Cell \u001b[1;32mIn[33], line 10\u001b[0m\n\u001b[0;32m      7\u001b[0m stipendi_df[\u001b[38;5;124m'\u001b[39m\u001b[38;5;124msalary_range\u001b[39m\u001b[38;5;124m'\u001b[39m] \u001b[38;5;241m=\u001b[39m pd\u001b[38;5;241m.\u001b[39mcut(stipendi_df[\u001b[38;5;124m'\u001b[39m\u001b[38;5;124msalary_in_usd\u001b[39m\u001b[38;5;124m'\u001b[39m], bins\u001b[38;5;241m=\u001b[39mbins, labels\u001b[38;5;241m=\u001b[39mlabels)\n\u001b[0;32m      9\u001b[0m plt\u001b[38;5;241m.\u001b[39mfigure(figsize\u001b[38;5;241m=\u001b[39m(\u001b[38;5;241m12\u001b[39m, \u001b[38;5;241m7\u001b[39m)) \n\u001b[1;32m---> 10\u001b[0m sns\u001b[38;5;241m.\u001b[39mhistplot(data\u001b[38;5;241m=\u001b[39mfiltered_df, \n\u001b[0;32m     11\u001b[0m              x\u001b[38;5;241m=\u001b[39mpd\u001b[38;5;241m.\u001b[39mCategorical(filtered_df[\u001b[38;5;124m'\u001b[39m\u001b[38;5;124mcompany_location\u001b[39m\u001b[38;5;124m'\u001b[39m], categories\u001b[38;5;241m=\u001b[39mlocation_order), \n\u001b[0;32m     12\u001b[0m              kde\u001b[38;5;241m=\u001b[39m\u001b[38;5;28;01mFalse\u001b[39;00m, \n\u001b[0;32m     13\u001b[0m              hue\u001b[38;5;241m=\u001b[39m\u001b[38;5;124m'\u001b[39m\u001b[38;5;124msalary_range\u001b[39m\u001b[38;5;124m'\u001b[39m, \n\u001b[0;32m     14\u001b[0m              multiple\u001b[38;5;241m=\u001b[39m\u001b[38;5;124m\"\u001b[39m\u001b[38;5;124mstack\u001b[39m\u001b[38;5;124m\"\u001b[39m)\n\u001b[0;32m     16\u001b[0m plt\u001b[38;5;241m.\u001b[39mxlabel(\u001b[38;5;124m'\u001b[39m\u001b[38;5;124mNazioni\u001b[39m\u001b[38;5;124m'\u001b[39m, size \u001b[38;5;241m=\u001b[39m \u001b[38;5;241m15\u001b[39m)\n\u001b[0;32m     17\u001b[0m plt\u001b[38;5;241m.\u001b[39mylabel(\u001b[38;5;124m'\u001b[39m\u001b[38;5;124mFrequenza\u001b[39m\u001b[38;5;124m'\u001b[39m, size \u001b[38;5;241m=\u001b[39m \u001b[38;5;241m15\u001b[39m)\n",
      "File \u001b[1;32mc:\\Users\\gianl\\anaconda3\\Lib\\site-packages\\seaborn\\distributions.py:1379\u001b[0m, in \u001b[0;36mhistplot\u001b[1;34m(data, x, y, hue, weights, stat, bins, binwidth, binrange, discrete, cumulative, common_bins, common_norm, multiple, element, fill, shrink, kde, kde_kws, line_kws, thresh, pthresh, pmax, cbar, cbar_ax, cbar_kws, palette, hue_order, hue_norm, color, log_scale, legend, ax, **kwargs)\u001b[0m\n\u001b[0;32m   1358\u001b[0m \u001b[38;5;28;01mdef\u001b[39;00m \u001b[38;5;21mhistplot\u001b[39m(\n\u001b[0;32m   1359\u001b[0m     data\u001b[38;5;241m=\u001b[39m\u001b[38;5;28;01mNone\u001b[39;00m, \u001b[38;5;241m*\u001b[39m,\n\u001b[0;32m   1360\u001b[0m     \u001b[38;5;66;03m# Vector variables\u001b[39;00m\n\u001b[1;32m   (...)\u001b[0m\n\u001b[0;32m   1376\u001b[0m     \u001b[38;5;241m*\u001b[39m\u001b[38;5;241m*\u001b[39mkwargs,\n\u001b[0;32m   1377\u001b[0m ):\n\u001b[1;32m-> 1379\u001b[0m     p \u001b[38;5;241m=\u001b[39m _DistributionPlotter(\n\u001b[0;32m   1380\u001b[0m         data\u001b[38;5;241m=\u001b[39mdata,\n\u001b[0;32m   1381\u001b[0m         variables\u001b[38;5;241m=\u001b[39m\u001b[38;5;28mdict\u001b[39m(x\u001b[38;5;241m=\u001b[39mx, y\u001b[38;5;241m=\u001b[39my, hue\u001b[38;5;241m=\u001b[39mhue, weights\u001b[38;5;241m=\u001b[39mweights),\n\u001b[0;32m   1382\u001b[0m     )\n\u001b[0;32m   1384\u001b[0m     p\u001b[38;5;241m.\u001b[39mmap_hue(palette\u001b[38;5;241m=\u001b[39mpalette, order\u001b[38;5;241m=\u001b[39mhue_order, norm\u001b[38;5;241m=\u001b[39mhue_norm)\n\u001b[0;32m   1386\u001b[0m     \u001b[38;5;28;01mif\u001b[39;00m ax \u001b[38;5;129;01mis\u001b[39;00m \u001b[38;5;28;01mNone\u001b[39;00m:\n",
      "File \u001b[1;32mc:\\Users\\gianl\\anaconda3\\Lib\\site-packages\\seaborn\\distributions.py:110\u001b[0m, in \u001b[0;36m_DistributionPlotter.__init__\u001b[1;34m(self, data, variables)\u001b[0m\n\u001b[0;32m    104\u001b[0m \u001b[38;5;28;01mdef\u001b[39;00m \u001b[38;5;21m__init__\u001b[39m(\n\u001b[0;32m    105\u001b[0m     \u001b[38;5;28mself\u001b[39m,\n\u001b[0;32m    106\u001b[0m     data\u001b[38;5;241m=\u001b[39m\u001b[38;5;28;01mNone\u001b[39;00m,\n\u001b[0;32m    107\u001b[0m     variables\u001b[38;5;241m=\u001b[39m{},\n\u001b[0;32m    108\u001b[0m ):\n\u001b[1;32m--> 110\u001b[0m     \u001b[38;5;28msuper\u001b[39m()\u001b[38;5;241m.\u001b[39m\u001b[38;5;21m__init__\u001b[39m(data\u001b[38;5;241m=\u001b[39mdata, variables\u001b[38;5;241m=\u001b[39mvariables)\n",
      "File \u001b[1;32mc:\\Users\\gianl\\anaconda3\\Lib\\site-packages\\seaborn\\_base.py:634\u001b[0m, in \u001b[0;36mVectorPlotter.__init__\u001b[1;34m(self, data, variables)\u001b[0m\n\u001b[0;32m    629\u001b[0m \u001b[38;5;66;03m# var_ordered is relevant only for categorical axis variables, and may\u001b[39;00m\n\u001b[0;32m    630\u001b[0m \u001b[38;5;66;03m# be better handled by an internal axis information object that tracks\u001b[39;00m\n\u001b[0;32m    631\u001b[0m \u001b[38;5;66;03m# such information and is set up by the scale_* methods. The analogous\u001b[39;00m\n\u001b[0;32m    632\u001b[0m \u001b[38;5;66;03m# information for numeric axes would be information about log scales.\u001b[39;00m\n\u001b[0;32m    633\u001b[0m \u001b[38;5;28mself\u001b[39m\u001b[38;5;241m.\u001b[39m_var_ordered \u001b[38;5;241m=\u001b[39m {\u001b[38;5;124m\"\u001b[39m\u001b[38;5;124mx\u001b[39m\u001b[38;5;124m\"\u001b[39m: \u001b[38;5;28;01mFalse\u001b[39;00m, \u001b[38;5;124m\"\u001b[39m\u001b[38;5;124my\u001b[39m\u001b[38;5;124m\"\u001b[39m: \u001b[38;5;28;01mFalse\u001b[39;00m}  \u001b[38;5;66;03m# alt., used DefaultDict\u001b[39;00m\n\u001b[1;32m--> 634\u001b[0m \u001b[38;5;28mself\u001b[39m\u001b[38;5;241m.\u001b[39massign_variables(data, variables)\n\u001b[0;32m    636\u001b[0m \u001b[38;5;66;03m# TODO Lots of tests assume that these are called to initialize the\u001b[39;00m\n\u001b[0;32m    637\u001b[0m \u001b[38;5;66;03m# mappings to default values on class initialization. I'd prefer to\u001b[39;00m\n\u001b[0;32m    638\u001b[0m \u001b[38;5;66;03m# move away from that and only have a mapping when explicitly called.\u001b[39;00m\n\u001b[0;32m    639\u001b[0m \u001b[38;5;28;01mfor\u001b[39;00m var \u001b[38;5;129;01min\u001b[39;00m [\u001b[38;5;124m\"\u001b[39m\u001b[38;5;124mhue\u001b[39m\u001b[38;5;124m\"\u001b[39m, \u001b[38;5;124m\"\u001b[39m\u001b[38;5;124msize\u001b[39m\u001b[38;5;124m\"\u001b[39m, \u001b[38;5;124m\"\u001b[39m\u001b[38;5;124mstyle\u001b[39m\u001b[38;5;124m\"\u001b[39m]:\n",
      "File \u001b[1;32mc:\\Users\\gianl\\anaconda3\\Lib\\site-packages\\seaborn\\_base.py:679\u001b[0m, in \u001b[0;36mVectorPlotter.assign_variables\u001b[1;34m(self, data, variables)\u001b[0m\n\u001b[0;32m    674\u001b[0m \u001b[38;5;28;01melse\u001b[39;00m:\n\u001b[0;32m    675\u001b[0m     \u001b[38;5;66;03m# When dealing with long-form input, use the newer PlotData\u001b[39;00m\n\u001b[0;32m    676\u001b[0m     \u001b[38;5;66;03m# object (internal but introduced for the objects interface)\u001b[39;00m\n\u001b[0;32m    677\u001b[0m     \u001b[38;5;66;03m# to centralize / standardize data consumption logic.\u001b[39;00m\n\u001b[0;32m    678\u001b[0m     \u001b[38;5;28mself\u001b[39m\u001b[38;5;241m.\u001b[39minput_format \u001b[38;5;241m=\u001b[39m \u001b[38;5;124m\"\u001b[39m\u001b[38;5;124mlong\u001b[39m\u001b[38;5;124m\"\u001b[39m\n\u001b[1;32m--> 679\u001b[0m     plot_data \u001b[38;5;241m=\u001b[39m PlotData(data, variables)\n\u001b[0;32m    680\u001b[0m     frame \u001b[38;5;241m=\u001b[39m plot_data\u001b[38;5;241m.\u001b[39mframe\n\u001b[0;32m    681\u001b[0m     names \u001b[38;5;241m=\u001b[39m plot_data\u001b[38;5;241m.\u001b[39mnames\n",
      "File \u001b[1;32mc:\\Users\\gianl\\anaconda3\\Lib\\site-packages\\seaborn\\_core\\data.py:58\u001b[0m, in \u001b[0;36mPlotData.__init__\u001b[1;34m(self, data, variables)\u001b[0m\n\u001b[0;32m     51\u001b[0m \u001b[38;5;28;01mdef\u001b[39;00m \u001b[38;5;21m__init__\u001b[39m(\n\u001b[0;32m     52\u001b[0m     \u001b[38;5;28mself\u001b[39m,\n\u001b[0;32m     53\u001b[0m     data: DataSource,\n\u001b[0;32m     54\u001b[0m     variables: \u001b[38;5;28mdict\u001b[39m[\u001b[38;5;28mstr\u001b[39m, VariableSpec],\n\u001b[0;32m     55\u001b[0m ):\n\u001b[0;32m     57\u001b[0m     data \u001b[38;5;241m=\u001b[39m handle_data_source(data)\n\u001b[1;32m---> 58\u001b[0m     frame, names, ids \u001b[38;5;241m=\u001b[39m \u001b[38;5;28mself\u001b[39m\u001b[38;5;241m.\u001b[39m_assign_variables(data, variables)\n\u001b[0;32m     60\u001b[0m     \u001b[38;5;28mself\u001b[39m\u001b[38;5;241m.\u001b[39mframe \u001b[38;5;241m=\u001b[39m frame\n\u001b[0;32m     61\u001b[0m     \u001b[38;5;28mself\u001b[39m\u001b[38;5;241m.\u001b[39mnames \u001b[38;5;241m=\u001b[39m names\n",
      "File \u001b[1;32mc:\\Users\\gianl\\anaconda3\\Lib\\site-packages\\seaborn\\_core\\data.py:232\u001b[0m, in \u001b[0;36mPlotData._assign_variables\u001b[1;34m(self, data, variables)\u001b[0m\n\u001b[0;32m    230\u001b[0m     \u001b[38;5;28;01melse\u001b[39;00m:\n\u001b[0;32m    231\u001b[0m         err \u001b[38;5;241m+\u001b[39m\u001b[38;5;241m=\u001b[39m \u001b[38;5;124m\"\u001b[39m\u001b[38;5;124mAn entry with this name does not appear in `data`.\u001b[39m\u001b[38;5;124m\"\u001b[39m\n\u001b[1;32m--> 232\u001b[0m     \u001b[38;5;28;01mraise\u001b[39;00m \u001b[38;5;167;01mValueError\u001b[39;00m(err)\n\u001b[0;32m    234\u001b[0m \u001b[38;5;28;01melse\u001b[39;00m:\n\u001b[0;32m    235\u001b[0m \n\u001b[0;32m    236\u001b[0m     \u001b[38;5;66;03m# Otherwise, assume the value somehow represents data\u001b[39;00m\n\u001b[0;32m    237\u001b[0m \n\u001b[0;32m    238\u001b[0m     \u001b[38;5;66;03m# Ignore empty data structures\u001b[39;00m\n\u001b[0;32m    239\u001b[0m     \u001b[38;5;28;01mif\u001b[39;00m \u001b[38;5;28misinstance\u001b[39m(val, Sized) \u001b[38;5;129;01mand\u001b[39;00m \u001b[38;5;28mlen\u001b[39m(val) \u001b[38;5;241m==\u001b[39m \u001b[38;5;241m0\u001b[39m:\n",
      "\u001b[1;31mValueError\u001b[0m: Could not interpret value `salary_range` for `hue`. An entry with this name does not appear in `data`."
     ]
    },
    {
     "data": {
      "text/plain": [
       "<Figure size 1200x700 with 0 Axes>"
      ]
     },
     "metadata": {},
     "output_type": "display_data"
    }
   ],
   "source": [
    "bins = [0, 50000, 100000, 150000, simple_df['salary_in_usd'].max()]\n",
    "labels = ['0-50k', '50k-100k', '100k-150k', '150k+']\n",
    "\n",
    "top_locations = stipendi_df['company_location'].value_counts().nlargest(10).index\n",
    "filtered_df = stipendi_df[stipendi_df['company_location'].isin(top_locations)]\n",
    "location_order = filtered_df['company_location'].value_counts().index\n",
    "stipendi_df['salary_range'] = pd.cut(stipendi_df['salary_in_usd'], bins=bins, labels=labels)\n",
    "\n",
    "plt.figure(figsize=(12, 7)) \n",
    "sns.histplot(data=filtered_df, \n",
    "             x=pd.Categorical(filtered_df['company_location'], categories=location_order), \n",
    "             kde=False, \n",
    "             hue='salary_range', \n",
    "             multiple=\"stack\")\n",
    "\n",
    "plt.xlabel('Nazioni', size = 15)\n",
    "plt.ylabel('Frequenza', size = 15)\n",
    "plt.xticks(rotation= 45)\n",
    "plt.tight_layout()\n",
    "plt.legend(title='Fasce di salario', labels=labels, bbox_to_anchor=(1.05, 1), loc='upper right', fontsize=\"x-large\")"
   ]
  },
  {
   "cell_type": "code",
   "execution_count": null,
   "metadata": {},
   "outputs": [],
   "source": [
    "bins = [0, 50000, 100000, 150000, simple_df['salary_in_usd'].max()]\n",
    "labels = ['0-50k', '50k-100k', '100k-150k', '150k+']\n",
    "\n",
    "top_locations = stipendi_df['employee_residence'].value_counts().nlargest(10).index\n",
    "filtered_df = stipendi_df[stipendi_df['employee_residence'].isin(top_locations)]\n",
    "location_order = filtered_df['employee_residence'].value_counts().index\n",
    "stipendi_df['salary_range'] = pd.cut(stipendi_df['salary_in_usd'], bins=bins, labels=labels)\n",
    "\n",
    "plt.figure(figsize=(12, 7)) \n",
    "sns.histplot(data=filtered_df, \n",
    "             x=pd.Categorical(filtered_df['employee_residence'], categories=location_order), \n",
    "             kde=False, \n",
    "             hue='salary_range', \n",
    "             multiple=\"stack\")\n",
    "\n",
    "\n",
    "plt.xlabel('Nazioni di residenza', size = 15)\n",
    "plt.ylabel('Frequenza', size = 15)\n",
    "plt.xticks(rotation= 45)\n",
    "plt.tight_layout()\n",
    "plt.legend(title='Fasce di salario', labels=labels, bbox_to_anchor=(1.05, 1), loc='upper right', fontsize=\"x-large\")"
   ]
  },
  {
   "cell_type": "code",
   "execution_count": null,
   "metadata": {},
   "outputs": [],
   "source": [
    "stipendi_df"
   ]
  },
  {
   "cell_type": "code",
   "execution_count": null,
   "metadata": {},
   "outputs": [],
   "source": [
    "stipendi_df.work_year.value_counts()"
   ]
  },
  {
   "cell_type": "code",
   "execution_count": null,
   "metadata": {},
   "outputs": [],
   "source": [
    "g = sns.catplot(data= stipendi_df, \n",
    "            x= \"job_category\",\n",
    "            y= 'salary_in_usd',\n",
    "            kind= \"bar\", \n",
    "            hue= \"work_year\",\n",
    "            hue_order=[\"2020\", \"2021\", \"2022\"],\n",
    "            aspect= 16/9,)\n",
    "g._legend.set_title(\"Esperienza\")\n",
    "\n",
    "plt.title(\"Stipendi in base al tipo di lavoro e anni d'esperienza\", c= \"b\")\n",
    "plt.xlabel('Lavori', c= \"b\")\n",
    "plt.ylabel('Stipendi annuali', c= \"b\");"
   ]
  },
  {
   "cell_type": "code",
   "execution_count": null,
   "metadata": {},
   "outputs": [],
   "source": [
    "fig, (torta, tabella1) = plt.subplots(1, 2, figsize=(14, 6))\n",
    "fig.subplots_adjust(wspace=0)\n",
    "\n",
    "# Grafico a torta\n",
    "labels = [\"In ufficio\", \"Ibrido\", \"Da remoto\"]\n",
    "explode = [0, 0, 0.1] # Esplosione per \"Full remote\"\n",
    "angle = 90 # Ruota la torta in modo che \"Full remote\" sia vicino alla tabella\n",
    "colors = [\"#77dd77\",\"#8BD3E6\",\"#FF6D6A\"]\n",
    "wedges, *_ = torta.pie(lavori_da_remoto, autopct='%1.1f%%', startangle=angle,\n",
    "                       labels=labels, explode=explode,colors= colors)\n",
    "torta.set_title(\"Tipo di lavoro\")\n",
    "\n",
    "# Dati per il grafico a barre per i dettagli della fetta \"Full remote\"\n",
    "ratei_lavori = [0.21, 0.18, 0.16, 0.07]\n",
    "nomi_lavori = [\"Data Scientist\", \"Data Engineer\", \"Data Analyst\", \"AI Professionals\"]\n",
    "bottom = 1\n",
    "width = .2\n",
    "\n",
    "# Loop per creare le barre impilate\n",
    "for j, (height, label) in enumerate(reversed([*zip(ratei_lavori, nomi_lavori)])):\n",
    "    bottom -= height\n",
    "    alpha_value = min(0.1 + 0.25 * j, 1) # Limita il valore di alpha a 1\n",
    "    bc = tabella1.bar(0, height, width, bottom=bottom, color=\"#FF6D6A\", label=label,\n",
    "                      alpha=alpha_value)\n",
    "    # Aggiunta delle etichette al centro delle barre\n",
    "    tabella1.bar_label(bc, labels=[f\"{float(height):.0%}\"], label_type='center')\n",
    "\n",
    "# Impostazioni del grafico a barre\n",
    "tabella1.set_title('Percentuale dei ruoli da remoto')\n",
    "tabella1.legend()\n",
    "tabella1.axis('off')\n",
    "tabella1.set_xlim(-2.5 * width, 2.5 * width)\n",
    "# tabella1.set_color(\"yellow\")\n",
    "\n",
    "# Collegamento tra la torta e le barre per la fetta \"Full remote\" (indice 2)\n",
    "theta1, theta2 = wedges[2].theta1, wedges[2].theta2 # Angoli della fetta \"Full remote\"\n",
    "center, r = wedges[2].center, wedges[2].r # Centro e raggio della fetta\n",
    "bar_height = sum(ratei_lavori) / len(ratei_lavori) # Altezza media delle barre\n",
    "\n",
    "# Mostra il grafico finale\n",
    "plt.show()"
   ]
  },
  {
   "cell_type": "code",
   "execution_count": null,
   "metadata": {},
   "outputs": [],
   "source": [
    "serie_lavoro = pd.Series()\n",
    "# Creo una serie che contiene i paesi con la rispettiva media degli stipendi\n",
    "serie_lavoro = stipendi_df[\"company_location\"].value_counts()\n",
    "serie_lavoro= serie_lavoro.reset_index()\n",
    "serie_lavoro[\"company_location\"] = serie_lavoro[\"company_location\"].map(alpha2_to_alpha3)\n",
    "\n",
    "# Create the choropleth map\n",
    "fig = px.choropleth(\n",
    "    serie_lavoro,\n",
    "    locations=\"company_location\",\n",
    "    locationmode='ISO-3',\n",
    "    color='count',\n",
    "    hover_name=\"company_location\",\n",
    "    color_continuous_scale=px.colors.sequential.Plasma\n",
    ")\n",
    "# Update the layout for better appearance\n",
    "fig.update_layout(\n",
    "    title='Heatmap mondiale salario medio',\n",
    "    geo=dict(\n",
    "        showframe=False,\n",
    "        #showcoastlines=False,\n",
    "        projection_type='equirectangular'\n",
    "    )\n",
    ")\n",
    "# fig.update_layout(margin=dict(l=60, r=60, t=50, b=50))\n",
    "# Show the figure\n",
    "fig.show()"
   ]
  },
  {
   "cell_type": "code",
   "execution_count": null,
   "metadata": {},
   "outputs": [],
   "source": [
    "luogo_dipendenti = pd.Series()\n",
    "# Creo una serie che contiene i paesi con la rispettiva media degli stipendi\n",
    "luogo_dipendenti = stipendi_df[\"employee_residence\"].value_counts()\n",
    "luogo_dipendenti = luogo_dipendenti.reset_index()\n",
    "luogo_dipendenti[\"employee_residence\"] = luogo_dipendenti[\"employee_residence\"].map(alpha2_to_alpha3)\n",
    "\n",
    "# Create the choropleth map\n",
    "fig = px.choropleth(\n",
    "    luogo_dipendenti,\n",
    "    locations=\"employee_residence\",\n",
    "    locationmode='ISO-3',\n",
    "    color='count',\n",
    "    hover_name=\"employee_residence\",\n",
    "    color_continuous_scale=px.colors.sequential.Plasma\n",
    ")\n",
    "# Update the layout for better appearance\n",
    "fig.update_layout(\n",
    "    title='Heatmap mondiale dipendenti',\n",
    "    geo=dict(\n",
    "        showframe=False,\n",
    "        #showcoastlines=False,\n",
    "        projection_type='equirectangular'\n",
    "    ),\n",
    "    coloraxis_colorbar=dict(\n",
    "        title=\"Numero dipendenti\"\n",
    "    )\n",
    ")\n",
    "# fig.update_layout(margin=dict(l=60, r=60, t=50, b=50))\n",
    "# Show the figure\n",
    "fig.show()"
   ]
  },
  {
   "cell_type": "code",
   "execution_count": null,
   "metadata": {},
   "outputs": [],
   "source": [
    "\n",
    "ruoli_per_anno = stipendi_df.groupby(['job_category', 'work_year'], as_index=False)['salary_in_usd'].mean()\n",
    "ruoli_per_anno.columns = ['job_category', 'work_year', 'avg_salary_in_usd']\n",
    "\n",
    "sns.catplot(data=ruoli_per_anno, x='work_year', y='avg_salary_in_usd', kind='bar', hue='job_category', aspect=16/9)\n",
    "plt.title('Evoluzione del Salario Medio per Categoria di Lavoro (Barre)')\n",
    "plt.xlabel('Anno')\n",
    "plt.ylabel('Salario Medio in USD')\n",
    "plt.show()\n",
    "\n",
    "sns.lineplot(data=ruoli_per_anno, x='work_year', y='avg_salary_in_usd', hue='job_category', marker='o')\n",
    "plt.title('Evoluzione del Salario Medio per Categoria di Lavoro (Linee)')\n",
    "plt.xlabel('Anno')\n",
    "plt.ylabel('Salario Medio in USD')\n",
    "plt.show()"
   ]
  },
  {
   "cell_type": "code",
   "execution_count": null,
   "metadata": {},
   "outputs": [],
   "source": [
    "plt.figure(figsize=(9, 6))\n",
    "sns.lineplot(data=stipendi_df, x='work_year', y='salary_in_usd', hue='job_category',  marker='o')\n",
    "\n",
    "plt.title('Trend salariali in rapporto al tipo di lavoro', fontsize=14, fontweight='bold')\n",
    "plt.xlabel('Anno di lavoro', fontsize=12, fontweight='bold')\n",
    "plt.ylabel('Salario in USD', fontsize=12, fontweight='bold')\n",
    "plt.legend(title='Tipologia lavoro', title_fontsize=10, fontsize=10, loc='lower right')\n",
    "# plt.xticks= [2020, 2021, 2022]\n",
    "plt.ticklabel_format(style='plain', axis='x')\n",
    "\n",
    "plt.show()"
   ]
  },
  {
   "cell_type": "code",
   "execution_count": null,
   "metadata": {},
   "outputs": [],
   "source": [
    "stipendi_df.loc(stipendi_df['salary_in_usd'].max())"
   ]
  },
  {
   "cell_type": "code",
   "execution_count": null,
   "metadata": {},
   "outputs": [],
   "source": []
  }
 ],
 "metadata": {
  "kernelspec": {
   "display_name": "base",
   "language": "python",
   "name": "python3"
  },
  "language_info": {
   "codemirror_mode": {
    "name": "ipython",
    "version": 3
   },
   "file_extension": ".py",
   "mimetype": "text/x-python",
   "name": "python",
   "nbconvert_exporter": "python",
   "pygments_lexer": "ipython3",
   "version": "3.12.4"
  }
 },
 "nbformat": 4,
 "nbformat_minor": 2
}
